{
 "cells": [
  {
   "cell_type": "code",
   "execution_count": 5,
   "id": "87a9747b-9241-46d6-862a-a2a0fe5c8ec1",
   "metadata": {},
   "outputs": [],
   "source": [
    "import numpy as np\n",
    "\n",
    "my_arr = np.arange(10000000)\n",
    "\n",
    "my_list = list(range(10000000))"
   ]
  },
  {
   "cell_type": "code",
   "execution_count": 6,
   "id": "892bbac4-06a7-4ec4-974a-7b7126930f5c",
   "metadata": {},
   "outputs": [
    {
     "name": "stdout",
     "output_type": "stream",
     "text": [
      "CPU times: total: 46.9 ms\n",
      "Wall time: 103 ms\n"
     ]
    }
   ],
   "source": [
    "%time for _ in range(10): my_arr2 = my_arr * 2"
   ]
  },
  {
   "cell_type": "code",
   "execution_count": 7,
   "id": "9cb838cb-0cb3-45ad-9d8f-5151dd388303",
   "metadata": {},
   "outputs": [
    {
     "name": "stdout",
     "output_type": "stream",
     "text": [
      "CPU times: total: 1.7 s\n",
      "Wall time: 4.1 s\n"
     ]
    }
   ],
   "source": [
    "%time for _ in range(10): my_list2 = [x * 2 for x in my_list]"
   ]
  },
  {
   "cell_type": "code",
   "execution_count": null,
   "id": "36ba5d60-df4e-4fc4-9fcf-e31251b051db",
   "metadata": {},
   "outputs": [],
   "source": []
  },
  {
   "cell_type": "code",
   "execution_count": 8,
   "id": "22c3a578-d0e8-4cfc-b628-b58156d3ad92",
   "metadata": {},
   "outputs": [
    {
     "data": {
      "text/plain": [
       "array([[-0.20444799,  1.67340443,  0.9595775 ],\n",
       "       [ 0.18244822,  0.15866601,  1.69922162]])"
      ]
     },
     "execution_count": 8,
     "metadata": {},
     "output_type": "execute_result"
    }
   ],
   "source": [
    "import numpy as np\n",
    "\n",
    "data = np.random.randn(2,3)\n",
    "\n",
    "data"
   ]
  },
  {
   "cell_type": "code",
   "execution_count": 9,
   "id": "92d04fac-19d4-460c-b320-ce926f70009a",
   "metadata": {},
   "outputs": [
    {
     "data": {
      "text/plain": [
       "array([[-0.40889598,  3.34680886,  1.91915501],\n",
       "       [ 0.36489644,  0.31733203,  3.39844324]])"
      ]
     },
     "execution_count": 9,
     "metadata": {},
     "output_type": "execute_result"
    }
   ],
   "source": [
    "data * 10\n",
    "\n",
    "data + data"
   ]
  },
  {
   "cell_type": "code",
   "execution_count": 10,
   "id": "86cf5020-b8bd-439d-a180-261fe50fcc08",
   "metadata": {},
   "outputs": [
    {
     "data": {
      "text/plain": [
       "array([[-2.04447991, 16.73404428,  9.59577503],\n",
       "       [ 1.8244822 ,  1.58666014, 16.9922162 ]])"
      ]
     },
     "execution_count": 10,
     "metadata": {},
     "output_type": "execute_result"
    }
   ],
   "source": [
    "data * 10"
   ]
  },
  {
   "cell_type": "code",
   "execution_count": 11,
   "id": "ced2243b-5619-4436-b348-53d4696483e7",
   "metadata": {},
   "outputs": [
    {
     "data": {
      "text/plain": [
       "(2, 3)"
      ]
     },
     "execution_count": 11,
     "metadata": {},
     "output_type": "execute_result"
    }
   ],
   "source": [
    "data.shape"
   ]
  },
  {
   "cell_type": "code",
   "execution_count": 12,
   "id": "3e3de4b4-e464-4b90-97b7-6bafde22b1c7",
   "metadata": {},
   "outputs": [
    {
     "data": {
      "text/plain": [
       "dtype('float64')"
      ]
     },
     "execution_count": 12,
     "metadata": {},
     "output_type": "execute_result"
    }
   ],
   "source": [
    "data.dtype"
   ]
  },
  {
   "cell_type": "code",
   "execution_count": 26,
   "id": "0b69c02c-f6d5-42ef-8481-d765fb3e1589",
   "metadata": {},
   "outputs": [
    {
     "data": {
      "text/plain": [
       "array([ 1. ,  1. ,  3.5, 22. ,  3. ,  2. ,  2. ,  2. ,  3. , 33. ,  1. ,\n",
       "        3. ,  2. ])"
      ]
     },
     "execution_count": 26,
     "metadata": {},
     "output_type": "execute_result"
    }
   ],
   "source": [
    "data1 = [1,1,3.5,22,3,2,2,2,3,33,1,3,2]\n",
    "\n",
    "arry1 = np.array(data1)\n",
    "\n",
    "arry1"
   ]
  },
  {
   "cell_type": "code",
   "execution_count": 22,
   "id": "e5e5ea4b-76df-471d-bef9-e3e420c51dc7",
   "metadata": {},
   "outputs": [
    {
     "data": {
      "text/plain": [
       "array([[ 1,  1,  3, 22,  3,  2],\n",
       "       [ 2,  3, 33,  1,  3,  2]])"
      ]
     },
     "execution_count": 22,
     "metadata": {},
     "output_type": "execute_result"
    }
   ],
   "source": [
    "data2 = [ [1,1,3,22,3,2], [2,3,33,1,3,2] ]\n",
    "\n",
    "arry2 = np.array(data2)\n",
    "\n",
    "arry2"
   ]
  },
  {
   "cell_type": "code",
   "execution_count": 23,
   "id": "3c754f11-6fbc-4311-a696-b62329ec669b",
   "metadata": {},
   "outputs": [
    {
     "data": {
      "text/plain": [
       "(2, 6)"
      ]
     },
     "execution_count": 23,
     "metadata": {},
     "output_type": "execute_result"
    }
   ],
   "source": [
    "arry1.shape"
   ]
  },
  {
   "cell_type": "code",
   "execution_count": 24,
   "id": "9fc31c7b-da13-4593-a128-06b45a2110fc",
   "metadata": {},
   "outputs": [
    {
     "data": {
      "text/plain": [
       "2"
      ]
     },
     "execution_count": 24,
     "metadata": {},
     "output_type": "execute_result"
    }
   ],
   "source": [
    "arry1.ndim"
   ]
  },
  {
   "cell_type": "code",
   "execution_count": 28,
   "id": "146fea11-d077-4643-a1cb-ec52cdac59ea",
   "metadata": {},
   "outputs": [
    {
     "data": {
      "text/plain": [
       "dtype('float64')"
      ]
     },
     "execution_count": 28,
     "metadata": {},
     "output_type": "execute_result"
    }
   ],
   "source": [
    "arry1.dtype"
   ]
  },
  {
   "cell_type": "code",
   "execution_count": 29,
   "id": "d45a7092-f595-4235-a6c1-4ce4afbcebef",
   "metadata": {},
   "outputs": [
    {
     "data": {
      "text/plain": [
       "[1, 1, 3, 22, 3, 2, 2, 2, 3, 33, 1, 3, 2]"
      ]
     },
     "execution_count": 29,
     "metadata": {},
     "output_type": "execute_result"
    }
   ],
   "source": [
    "[1,1,3,22,3,2,2,2,3,33,1,3,2]"
   ]
  },
  {
   "cell_type": "code",
   "execution_count": 30,
   "id": "2792663b-a8f2-4a21-8d77-888502cc26fb",
   "metadata": {},
   "outputs": [
    {
     "data": {
      "text/plain": [
       "dtype('int32')"
      ]
     },
     "execution_count": 30,
     "metadata": {},
     "output_type": "execute_result"
    }
   ],
   "source": [
    "arry2.dtype"
   ]
  },
  {
   "cell_type": "code",
   "execution_count": 31,
   "id": "f964e819-78f6-48a6-9e89-7e015beb001b",
   "metadata": {},
   "outputs": [
    {
     "data": {
      "text/plain": [
       "array([0., 0., 0., 0., 0., 0., 0., 0., 0., 0., 0., 0., 0., 0., 0., 0., 0.,\n",
       "       0., 0., 0., 0., 0., 0., 0., 0., 0., 0., 0., 0., 0., 0., 0., 0., 0.,\n",
       "       0., 0., 0., 0., 0., 0., 0., 0., 0., 0., 0., 0., 0., 0., 0., 0., 0.,\n",
       "       0., 0., 0., 0., 0., 0., 0., 0., 0., 0., 0., 0., 0., 0., 0., 0., 0.,\n",
       "       0., 0., 0., 0., 0., 0., 0., 0., 0., 0., 0., 0., 0., 0., 0., 0., 0.,\n",
       "       0., 0., 0., 0., 0., 0., 0., 0., 0., 0., 0., 0., 0., 0., 0.])"
      ]
     },
     "execution_count": 31,
     "metadata": {},
     "output_type": "execute_result"
    }
   ],
   "source": [
    "np.zeros(100)"
   ]
  },
  {
   "cell_type": "code",
   "execution_count": 32,
   "id": "3361622c-72ab-49b1-8cb2-863fb89d00fc",
   "metadata": {},
   "outputs": [
    {
     "data": {
      "text/plain": [
       "array([1., 1., 1., 1., 1., 1., 1., 1., 1., 1.])"
      ]
     },
     "execution_count": 32,
     "metadata": {},
     "output_type": "execute_result"
    }
   ],
   "source": [
    "np.ones(10)"
   ]
  },
  {
   "cell_type": "code",
   "execution_count": 34,
   "id": "37d5e545-7067-4218-8a71-d36de2cb9586",
   "metadata": {},
   "outputs": [
    {
     "data": {
      "text/plain": [
       "array([[[0., 0., 0.],\n",
       "        [0., 0., 0.],\n",
       "        [0., 0., 0.]],\n",
       "\n",
       "       [[0., 0., 0.],\n",
       "        [0., 0., 0.],\n",
       "        [0., 0., 0.]],\n",
       "\n",
       "       [[0., 0., 0.],\n",
       "        [0., 0., 0.],\n",
       "        [0., 0., 0.]]])"
      ]
     },
     "execution_count": 34,
     "metadata": {},
     "output_type": "execute_result"
    }
   ],
   "source": [
    "np.zeros((3,3,3))"
   ]
  },
  {
   "cell_type": "code",
   "execution_count": 35,
   "id": "7acb4c32-bc8e-4a22-b0e9-2940bf601924",
   "metadata": {},
   "outputs": [
    {
     "data": {
      "text/plain": [
       "array([[[1., 1., 1., 1.],\n",
       "        [1., 1., 1., 1.],\n",
       "        [1., 1., 1., 1.],\n",
       "        [1., 1., 1., 1.]],\n",
       "\n",
       "       [[1., 1., 1., 1.],\n",
       "        [1., 1., 1., 1.],\n",
       "        [1., 1., 1., 1.],\n",
       "        [1., 1., 1., 1.]],\n",
       "\n",
       "       [[1., 1., 1., 1.],\n",
       "        [1., 1., 1., 1.],\n",
       "        [1., 1., 1., 1.],\n",
       "        [1., 1., 1., 1.]],\n",
       "\n",
       "       [[1., 1., 1., 1.],\n",
       "        [1., 1., 1., 1.],\n",
       "        [1., 1., 1., 1.],\n",
       "        [1., 1., 1., 1.]]])"
      ]
     },
     "execution_count": 35,
     "metadata": {},
     "output_type": "execute_result"
    }
   ],
   "source": [
    "np.ones((4,4,4))"
   ]
  },
  {
   "cell_type": "code",
   "execution_count": 37,
   "id": "b74261b5-b0db-4c1f-974b-2af0ac31f72f",
   "metadata": {},
   "outputs": [
    {
     "data": {
      "text/plain": [
       "array([[[1.15233164e-311, 3.16202013e-322],\n",
       "        [0.00000000e+000, 0.00000000e+000],\n",
       "        [1.14587773e-312, 1.16027823e-046]],\n",
       "\n",
       "       [[7.87810096e-071, 3.37859951e-057],\n",
       "        [2.47038186e-056, 2.17739002e-076],\n",
       "        [1.90180797e-052, 1.05161951e-046]]])"
      ]
     },
     "execution_count": 37,
     "metadata": {},
     "output_type": "execute_result"
    }
   ],
   "source": [
    "np.empty((2,3,2))"
   ]
  },
  {
   "cell_type": "code",
   "execution_count": 39,
   "id": "bc18a4e1-c268-48cf-b02c-8f3a3ef4184b",
   "metadata": {},
   "outputs": [
    {
     "data": {
      "text/plain": [
       "array([4, 5, 6])"
      ]
     },
     "execution_count": 39,
     "metadata": {},
     "output_type": "execute_result"
    }
   ],
   "source": [
    "np.arange(4,7)"
   ]
  },
  {
   "cell_type": "code",
   "execution_count": 40,
   "id": "036de65c-aa89-4f57-bb71-d8945c1ea971",
   "metadata": {},
   "outputs": [
    {
     "data": {
      "text/plain": [
       "array([ 0,  1,  2,  3,  4,  5,  6,  7,  8,  9, 10, 11, 12, 13, 14, 15, 16,\n",
       "       17, 18, 19, 20, 21, 22, 23, 24, 25, 26, 27, 28, 29, 30, 31, 32, 33,\n",
       "       34, 35, 36, 37, 38, 39, 40, 41, 42, 43, 44, 45, 46, 47, 48, 49, 50,\n",
       "       51, 52, 53, 54, 55, 56, 57, 58, 59, 60, 61, 62, 63, 64, 65, 66, 67,\n",
       "       68, 69, 70, 71, 72, 73, 74, 75, 76, 77, 78, 79, 80, 81, 82, 83, 84,\n",
       "       85, 86, 87, 88, 89, 90, 91, 92, 93, 94, 95, 96, 97, 98])"
      ]
     },
     "execution_count": 40,
     "metadata": {},
     "output_type": "execute_result"
    }
   ],
   "source": [
    "np.arange(99)"
   ]
  },
  {
   "cell_type": "code",
   "execution_count": 41,
   "id": "18280be9-fcf1-40ad-8b9a-639f13eb10ba",
   "metadata": {},
   "outputs": [
    {
     "data": {
      "text/plain": [
       "array([[1., 0., 0., 0., 0., 0., 0., 0., 0.],\n",
       "       [0., 1., 0., 0., 0., 0., 0., 0., 0.],\n",
       "       [0., 0., 1., 0., 0., 0., 0., 0., 0.],\n",
       "       [0., 0., 0., 1., 0., 0., 0., 0., 0.],\n",
       "       [0., 0., 0., 0., 1., 0., 0., 0., 0.],\n",
       "       [0., 0., 0., 0., 0., 1., 0., 0., 0.],\n",
       "       [0., 0., 0., 0., 0., 0., 1., 0., 0.],\n",
       "       [0., 0., 0., 0., 0., 0., 0., 1., 0.],\n",
       "       [0., 0., 0., 0., 0., 0., 0., 0., 1.]])"
      ]
     },
     "execution_count": 41,
     "metadata": {},
     "output_type": "execute_result"
    }
   ],
   "source": [
    "np.eye(9)"
   ]
  },
  {
   "cell_type": "code",
   "execution_count": 45,
   "id": "c3378229-a3ae-4745-be48-af65514f81a3",
   "metadata": {},
   "outputs": [
    {
     "data": {
      "text/plain": [
       "dtype('float64')"
      ]
     },
     "execution_count": 45,
     "metadata": {},
     "output_type": "execute_result"
    }
   ],
   "source": [
    "arr1 = np.array([1,2,3],dtype=np.float64)\n",
    "\n",
    "arr1.dtype"
   ]
  },
  {
   "cell_type": "code",
   "execution_count": 46,
   "id": "c631bd06-a414-47ef-8157-65ff31cc1f52",
   "metadata": {},
   "outputs": [
    {
     "data": {
      "text/plain": [
       "dtype('int32')"
      ]
     },
     "execution_count": 46,
     "metadata": {},
     "output_type": "execute_result"
    }
   ],
   "source": [
    "arr = np.arange(20)\n",
    "\n",
    "arr.dtype"
   ]
  },
  {
   "cell_type": "code",
   "execution_count": 47,
   "id": "ab1e7f7b-b509-4656-bf07-f016a679e6c1",
   "metadata": {},
   "outputs": [
    {
     "data": {
      "text/plain": [
       "dtype('float64')"
      ]
     },
     "execution_count": 47,
     "metadata": {},
     "output_type": "execute_result"
    }
   ],
   "source": [
    "float_arr = arr.astype(np.float64)\n",
    "\n",
    "float_arr.dtype"
   ]
  },
  {
   "cell_type": "code",
   "execution_count": 48,
   "id": "6d38a1be-768e-4ad2-a3b9-0131653700c9",
   "metadata": {},
   "outputs": [
    {
     "data": {
      "text/plain": [
       "dtype('int32')"
      ]
     },
     "execution_count": 48,
     "metadata": {},
     "output_type": "execute_result"
    }
   ],
   "source": [
    "arr = np.array([3.7, -1.2, -2.6, 0.5, 12.9, 10.1])\n",
    "\n",
    "int_arr = arr.astype(np.int32)\n",
    "\n",
    "int_arr.dtype"
   ]
  },
  {
   "cell_type": "code",
   "execution_count": 51,
   "id": "902953b6-7f81-4a0d-afc3-04c7bd77532f",
   "metadata": {},
   "outputs": [
    {
     "data": {
      "text/plain": [
       "dtype('S32')"
      ]
     },
     "execution_count": 51,
     "metadata": {},
     "output_type": "execute_result"
    }
   ],
   "source": [
    "arr.astype(np.string_).dtype"
   ]
  },
  {
   "cell_type": "code",
   "execution_count": 52,
   "id": "3f90fc97-ac24-4f0e-8c02-5bb926690c1a",
   "metadata": {},
   "outputs": [
    {
     "data": {
      "text/plain": [
       "array([ 3.7, -1.2, -2.6,  0.5, 12.9, 10.1])"
      ]
     },
     "execution_count": 52,
     "metadata": {},
     "output_type": "execute_result"
    }
   ],
   "source": [
    "arr"
   ]
  },
  {
   "cell_type": "code",
   "execution_count": 53,
   "id": "f7b9c2ac-4a5d-4d28-b4ba-1cc929b7ac8d",
   "metadata": {},
   "outputs": [
    {
     "data": {
      "text/plain": [
       "array([ 1.25, -9.6 , 42.  ])"
      ]
     },
     "execution_count": 53,
     "metadata": {},
     "output_type": "execute_result"
    }
   ],
   "source": [
    "numeric_strings = np.array(['1.25', '-9.6', '42'], dtype=np.string_)\n",
    "\n",
    "numeric_strings.astype(float)"
   ]
  },
  {
   "cell_type": "code",
   "execution_count": 54,
   "id": "8cfb35fc-8eaf-483f-b58d-3c163449f1da",
   "metadata": {},
   "outputs": [
    {
     "data": {
      "text/plain": [
       "dtype('S4')"
      ]
     },
     "execution_count": 54,
     "metadata": {},
     "output_type": "execute_result"
    }
   ],
   "source": [
    "numeric_strings.dtype"
   ]
  },
  {
   "cell_type": "code",
   "execution_count": 55,
   "id": "28cd972a-b4c0-4bc6-a9ba-c726c4d1ca7d",
   "metadata": {},
   "outputs": [
    {
     "data": {
      "text/plain": [
       "dtype('S4')"
      ]
     },
     "execution_count": 55,
     "metadata": {},
     "output_type": "execute_result"
    }
   ],
   "source": [
    "numeric_strings.astype(np.float64)\n",
    "\n",
    "numeric_strings.dtype"
   ]
  },
  {
   "cell_type": "code",
   "execution_count": 56,
   "id": "1adfae0c-7b45-449c-97d3-c5ca3774b772",
   "metadata": {},
   "outputs": [
    {
     "data": {
      "text/plain": [
       "array([0., 1., 2., 3., 4., 5., 6., 7., 8., 9.])"
      ]
     },
     "execution_count": 56,
     "metadata": {},
     "output_type": "execute_result"
    }
   ],
   "source": [
    "int_array = np.arange(10)\n",
    "\n",
    "calibers = np.array([.22, .270, .357, .380, .44, .50], dtype=np.float64)\n",
    "\n",
    "int_array.astype(calibers.dtype)"
   ]
  },
  {
   "cell_type": "code",
   "execution_count": 58,
   "id": "6e2c8cf9-c935-491d-923f-3c0e70bbaa49",
   "metadata": {},
   "outputs": [
    {
     "data": {
      "text/plain": [
       "dtype('int32')"
      ]
     },
     "execution_count": 58,
     "metadata": {},
     "output_type": "execute_result"
    }
   ],
   "source": [
    "int_array.dtype"
   ]
  },
  {
   "cell_type": "code",
   "execution_count": 59,
   "id": "1a345d64-91e9-43fb-8040-bf002f62815f",
   "metadata": {},
   "outputs": [
    {
     "data": {
      "text/plain": [
       "array([    0,     1,     0, 32760,  1072,     0,   768,   543,     0,\n",
       "           0], dtype=uint32)"
      ]
     },
     "execution_count": 59,
     "metadata": {},
     "output_type": "execute_result"
    }
   ],
   "source": [
    "empty_uint2 = np.empty(10,dtype='u4')\n",
    "\n",
    "empty_uint2"
   ]
  },
  {
   "cell_type": "code",
   "execution_count": 60,
   "id": "5b8b9760-0259-411f-8f83-50e7882af0a8",
   "metadata": {},
   "outputs": [
    {
     "data": {
      "text/plain": [
       "array([[1., 2., 3.],\n",
       "       [4., 5., 6.]])"
      ]
     },
     "execution_count": 60,
     "metadata": {},
     "output_type": "execute_result"
    }
   ],
   "source": [
    "arr = np.array([[1., 2., 3.], [4., 5., 6.]])\n",
    "\n",
    "arr"
   ]
  },
  {
   "cell_type": "code",
   "execution_count": 61,
   "id": "0f192345-2bf8-446a-b9c8-e4c0941a5463",
   "metadata": {},
   "outputs": [
    {
     "data": {
      "text/plain": [
       "array([[ 1.,  4.,  9.],\n",
       "       [16., 25., 36.]])"
      ]
     },
     "execution_count": 61,
     "metadata": {},
     "output_type": "execute_result"
    }
   ],
   "source": [
    "arr * arr"
   ]
  },
  {
   "cell_type": "code",
   "execution_count": 62,
   "id": "867255a9-0a8b-4aee-935a-58454f2a5cd9",
   "metadata": {},
   "outputs": [
    {
     "data": {
      "text/plain": [
       "array([[0., 0., 0.],\n",
       "       [0., 0., 0.]])"
      ]
     },
     "execution_count": 62,
     "metadata": {},
     "output_type": "execute_result"
    }
   ],
   "source": [
    "arr - arr"
   ]
  },
  {
   "cell_type": "code",
   "execution_count": 63,
   "id": "b728c519-200a-41f1-9eb7-49b0e3214714",
   "metadata": {},
   "outputs": [
    {
     "data": {
      "text/plain": [
       "array([[  1.,   8.,  27.],\n",
       "       [ 64., 125., 216.]])"
      ]
     },
     "execution_count": 63,
     "metadata": {},
     "output_type": "execute_result"
    }
   ],
   "source": [
    "arr**3"
   ]
  },
  {
   "cell_type": "code",
   "execution_count": 66,
   "id": "318520a8-4ad1-41e7-aaec-83b67b7f6d0a",
   "metadata": {},
   "outputs": [
    {
     "name": "stdout",
     "output_type": "stream",
     "text": [
      "CPU times: total: 0 ns\n",
      "Wall time: 0 ns\n"
     ]
    },
    {
     "data": {
      "text/plain": [
       "array([[1.0000000e+00, 5.1200000e+02, 1.9683000e+04],\n",
       "       [2.6214400e+05, 1.9531250e+06, 1.0077696e+07]])"
      ]
     },
     "execution_count": 66,
     "metadata": {},
     "output_type": "execute_result"
    }
   ],
   "source": [
    "%time arr**9"
   ]
  },
  {
   "cell_type": "code",
   "execution_count": 67,
   "id": "c27ca159-0e85-420f-8fb6-4fdd745b92e0",
   "metadata": {},
   "outputs": [
    {
     "data": {
      "text/plain": [
       "array([[1.        , 0.5       , 0.33333333],\n",
       "       [0.25      , 0.2       , 0.16666667]])"
      ]
     },
     "execution_count": 67,
     "metadata": {},
     "output_type": "execute_result"
    }
   ],
   "source": [
    "1/arr"
   ]
  },
  {
   "cell_type": "code",
   "execution_count": 69,
   "id": "7616a4b5-8fbe-493c-a1de-a7e31db4d604",
   "metadata": {},
   "outputs": [
    {
     "data": {
      "text/plain": [
       "array([[1., 2., 3.],\n",
       "       [4., 5., 6.]])"
      ]
     },
     "execution_count": 69,
     "metadata": {},
     "output_type": "execute_result"
    }
   ],
   "source": [
    "arr2 = np.array([[0., 4., 1.], [7., 2., 12.]])\n",
    "\n",
    "arr"
   ]
  },
  {
   "cell_type": "code",
   "execution_count": 70,
   "id": "fe74e2ad-2425-4d8d-970e-1f4b38d2ba1b",
   "metadata": {},
   "outputs": [
    {
     "data": {
      "text/plain": [
       "array([[ 0.,  4.,  1.],\n",
       "       [ 7.,  2., 12.]])"
      ]
     },
     "execution_count": 70,
     "metadata": {},
     "output_type": "execute_result"
    }
   ],
   "source": [
    "arr2"
   ]
  },
  {
   "cell_type": "code",
   "execution_count": 71,
   "id": "22bbc409-d70b-4216-b3ea-3886a74376fe",
   "metadata": {},
   "outputs": [
    {
     "data": {
      "text/plain": [
       "array([[False,  True, False],\n",
       "       [ True, False,  True]])"
      ]
     },
     "execution_count": 71,
     "metadata": {},
     "output_type": "execute_result"
    }
   ],
   "source": [
    "arr2 >arr"
   ]
  },
  {
   "cell_type": "code",
   "execution_count": 72,
   "id": "e71a1810-5c7c-4070-8c95-8252ba71a516",
   "metadata": {},
   "outputs": [
    {
     "data": {
      "text/plain": [
       "array([0, 1, 2, 3, 4, 5, 6, 7, 8, 9])"
      ]
     },
     "execution_count": 72,
     "metadata": {},
     "output_type": "execute_result"
    }
   ],
   "source": [
    "arr = np.arange(10)\n",
    "\n",
    "arr"
   ]
  },
  {
   "cell_type": "code",
   "execution_count": 73,
   "id": "259d07ae-4a98-481d-9d68-9f3c34b64c9c",
   "metadata": {},
   "outputs": [
    {
     "data": {
      "text/plain": [
       "array([0, 1, 2, 3, 4])"
      ]
     },
     "execution_count": 73,
     "metadata": {},
     "output_type": "execute_result"
    }
   ],
   "source": [
    "arr[:5]"
   ]
  },
  {
   "cell_type": "code",
   "execution_count": 74,
   "id": "b1a367cd-cd55-46aa-8786-540fc025383d",
   "metadata": {},
   "outputs": [
    {
     "data": {
      "text/plain": [
       "array([9])"
      ]
     },
     "execution_count": 74,
     "metadata": {},
     "output_type": "execute_result"
    }
   ],
   "source": [
    "arr[-1:]"
   ]
  },
  {
   "cell_type": "code",
   "execution_count": 83,
   "id": "f9eaecb9-4de2-4f4a-88cd-c385d4eea797",
   "metadata": {},
   "outputs": [
    {
     "data": {
      "text/plain": [
       "array([], dtype=int32)"
      ]
     },
     "execution_count": 83,
     "metadata": {},
     "output_type": "execute_result"
    }
   ],
   "source": [
    "arr[-1:-8]"
   ]
  },
  {
   "cell_type": "code",
   "execution_count": 95,
   "id": "e14997a0-12f1-4906-a5a2-a9d52fbc1635",
   "metadata": {},
   "outputs": [
    {
     "data": {
      "text/plain": [
       "array([3, 3, 3, 3, 3, 2, 2, 2, 2, 2])"
      ]
     },
     "execution_count": 95,
     "metadata": {},
     "output_type": "execute_result"
    }
   ],
   "source": [
    "arr[0:5] = 3\n",
    "\n",
    "arr"
   ]
  },
  {
   "cell_type": "code",
   "execution_count": 92,
   "id": "b7be54a7-35fe-4166-a440-d004b5cdf254",
   "metadata": {},
   "outputs": [
    {
     "data": {
      "text/plain": [
       "array([0, 1, 2, 3, 4, 5, 6, 7, 8, 9])"
      ]
     },
     "execution_count": 92,
     "metadata": {},
     "output_type": "execute_result"
    }
   ],
   "source": [
    "arr1 = np.arange(10)\n",
    "\n",
    "arr1"
   ]
  },
  {
   "cell_type": "code",
   "execution_count": 94,
   "id": "f743bf31-9562-4383-8802-99310e892e0c",
   "metadata": {},
   "outputs": [
    {
     "data": {
      "text/plain": [
       "array([0, 1, 2, 1, 1, 1, 1, 7, 8, 9])"
      ]
     },
     "execution_count": 94,
     "metadata": {},
     "output_type": "execute_result"
    }
   ],
   "source": [
    "arr1[3:7] = 1\n",
    "\n",
    "arr1"
   ]
  },
  {
   "cell_type": "code",
   "execution_count": 100,
   "id": "daffe567-2616-461e-9bc6-77e5307723af",
   "metadata": {},
   "outputs": [
    {
     "data": {
      "text/plain": [
       "array([9, 8, 7, 1, 1, 1, 1, 2, 1, 0])"
      ]
     },
     "execution_count": 100,
     "metadata": {},
     "output_type": "execute_result"
    }
   ],
   "source": [
    "re_arr1 = arr1[::-1]\n",
    "\n",
    "re_arr1"
   ]
  },
  {
   "cell_type": "code",
   "execution_count": 101,
   "id": "ba32d23d-8583-4fbf-bc4c-9e89d2ffc263",
   "metadata": {},
   "outputs": [
    {
     "data": {
      "text/plain": [
       "array([0, 1, 2, 1, 1, 1, 1, 7, 8, 9])"
      ]
     },
     "execution_count": 101,
     "metadata": {},
     "output_type": "execute_result"
    }
   ],
   "source": [
    "arr1"
   ]
  },
  {
   "cell_type": "code",
   "execution_count": 103,
   "id": "6aa49d2f-e1af-4574-b102-4ad6f7a4295e",
   "metadata": {},
   "outputs": [
    {
     "data": {
      "text/plain": [
       "array([1, 1, 7])"
      ]
     },
     "execution_count": 103,
     "metadata": {},
     "output_type": "execute_result"
    }
   ],
   "source": [
    "arr1_slice = arr1[5:8]\n",
    "\n",
    "arr1_slice"
   ]
  },
  {
   "cell_type": "code",
   "execution_count": 105,
   "id": "77b93975-800b-42b6-90d9-f46a23f48b4a",
   "metadata": {},
   "outputs": [
    {
     "data": {
      "text/plain": [
       "array([   1, 2222,    7])"
      ]
     },
     "execution_count": 105,
     "metadata": {},
     "output_type": "execute_result"
    }
   ],
   "source": [
    "arr1_slice[1] = 2222\n",
    "\n",
    "arr1_slice"
   ]
  },
  {
   "cell_type": "code",
   "execution_count": 106,
   "id": "46511d9a-b523-460f-8ec9-39b5d410d007",
   "metadata": {},
   "outputs": [
    {
     "data": {
      "text/plain": [
       "array([   0,    1,    2,    1,    1,    1, 2222,    7,    8,    9])"
      ]
     },
     "execution_count": 106,
     "metadata": {},
     "output_type": "execute_result"
    }
   ],
   "source": [
    "arr1"
   ]
  },
  {
   "cell_type": "code",
   "execution_count": 108,
   "id": "acff33b6-fbf4-43b3-a004-5f857aa06552",
   "metadata": {},
   "outputs": [
    {
     "data": {
      "text/plain": [
       "array([   1, 2222,    7])"
      ]
     },
     "execution_count": 108,
     "metadata": {},
     "output_type": "execute_result"
    }
   ],
   "source": [
    "arr1_copy = arr1[5:8].copy()\n",
    "\n",
    "arr1_copy"
   ]
  },
  {
   "cell_type": "code",
   "execution_count": 109,
   "id": "dbe4feb0-32db-4ec5-af03-d719932e7290",
   "metadata": {},
   "outputs": [
    {
     "data": {
      "text/plain": [
       "array([1, 2, 3])"
      ]
     },
     "execution_count": 109,
     "metadata": {},
     "output_type": "execute_result"
    }
   ],
   "source": [
    "arr2d = np.array([[1, 2, 3], [4, 5, 6], [7, 8, 9]])\n",
    "\n",
    "arr2d[0]"
   ]
  },
  {
   "cell_type": "code",
   "execution_count": 110,
   "id": "bafd6138-3e80-4a0c-a1df-52705b09afaa",
   "metadata": {},
   "outputs": [
    {
     "data": {
      "text/plain": [
       "7"
      ]
     },
     "execution_count": 110,
     "metadata": {},
     "output_type": "execute_result"
    }
   ],
   "source": [
    "arr2d[2,0]"
   ]
  },
  {
   "cell_type": "code",
   "execution_count": 112,
   "id": "b9d3ac14-b5b0-4433-ac54-b6bf691a3d09",
   "metadata": {},
   "outputs": [
    {
     "data": {
      "text/plain": [
       "array([[[ 1,  2,  3],\n",
       "        [ 4,  5,  6]],\n",
       "\n",
       "       [[ 7,  8,  9],\n",
       "        [10, 11, 12]]])"
      ]
     },
     "execution_count": 112,
     "metadata": {},
     "output_type": "execute_result"
    }
   ],
   "source": [
    "arr3d = np.array([[[1, 2, 3], [4, 5, 6]], [[7, 8, 9], [10, 11, 12]]])\n",
    "\n",
    "arr3d"
   ]
  },
  {
   "cell_type": "code",
   "execution_count": 113,
   "id": "769fb263-eb15-416d-8a71-d8850b427702",
   "metadata": {},
   "outputs": [
    {
     "data": {
      "text/plain": [
       "array([[1, 2, 3],\n",
       "       [4, 5, 6]])"
      ]
     },
     "execution_count": 113,
     "metadata": {},
     "output_type": "execute_result"
    }
   ],
   "source": [
    "arr3d[0]"
   ]
  },
  {
   "cell_type": "code",
   "execution_count": 114,
   "id": "ffe865f7-db65-48ca-8415-cec3906d4de4",
   "metadata": {},
   "outputs": [
    {
     "data": {
      "text/plain": [
       "array([4, 5, 6])"
      ]
     },
     "execution_count": 114,
     "metadata": {},
     "output_type": "execute_result"
    }
   ],
   "source": [
    "arr3d[0,1]"
   ]
  },
  {
   "cell_type": "code",
   "execution_count": 115,
   "id": "dc0e4dea-056d-4385-8803-ffc561655cf1",
   "metadata": {},
   "outputs": [
    {
     "data": {
      "text/plain": [
       "6"
      ]
     },
     "execution_count": 115,
     "metadata": {},
     "output_type": "execute_result"
    }
   ],
   "source": [
    "arr3d[0,1,2]"
   ]
  },
  {
   "cell_type": "code",
   "execution_count": 116,
   "id": "1d9cea86-9263-4660-b830-3fd10c57a3dd",
   "metadata": {},
   "outputs": [
    {
     "data": {
      "text/plain": [
       "array([[[   1,    2,    3],\n",
       "        [2333, 2333, 2333]],\n",
       "\n",
       "       [[   7,    8,    9],\n",
       "        [  10,   11,   12]]])"
      ]
     },
     "execution_count": 116,
     "metadata": {},
     "output_type": "execute_result"
    }
   ],
   "source": [
    "old_values = arr3d[0].copy()\n",
    "\n",
    "arr3d[0,1] = 2333\n",
    "\n",
    "arr3d"
   ]
  },
  {
   "cell_type": "code",
   "execution_count": 117,
   "id": "3eab41ea-a575-49c9-abcf-e73818104480",
   "metadata": {},
   "outputs": [
    {
     "data": {
      "text/plain": [
       "array([[1, 2, 3],\n",
       "       [4, 5, 6]])"
      ]
     },
     "execution_count": 117,
     "metadata": {},
     "output_type": "execute_result"
    }
   ],
   "source": [
    "arr3d = old_values\n",
    "\n",
    "arr3d"
   ]
  },
  {
   "cell_type": "code",
   "execution_count": 118,
   "id": "3153ce91-ebc8-4e60-b27d-01b0f449cd98",
   "metadata": {},
   "outputs": [
    {
     "data": {
      "text/plain": [
       "array([[ 7,  8,  9],\n",
       "       [10, 11, 12]])"
      ]
     },
     "execution_count": 118,
     "metadata": {},
     "output_type": "execute_result"
    }
   ],
   "source": [
    "arr3d = np.array([[[1, 2, 3], [4, 5, 6]], [[7, 8, 9], [10, 11, 12]]])\n",
    "\n",
    "x= arr3d[1]\n",
    "\n",
    "x"
   ]
  },
  {
   "cell_type": "code",
   "execution_count": 119,
   "id": "35f06fb7-1c2f-41d5-bfeb-8809cb1b79b1",
   "metadata": {},
   "outputs": [
    {
     "data": {
      "text/plain": [
       "array([7, 8, 9])"
      ]
     },
     "execution_count": 119,
     "metadata": {},
     "output_type": "execute_result"
    }
   ],
   "source": [
    "x[0]"
   ]
  },
  {
   "cell_type": "code",
   "execution_count": 120,
   "id": "520229f4-3c26-43ff-889e-c69630cace7e",
   "metadata": {},
   "outputs": [
    {
     "data": {
      "text/plain": [
       "array([3, 3, 3, 3, 3, 2, 2, 2, 2, 2])"
      ]
     },
     "execution_count": 120,
     "metadata": {},
     "output_type": "execute_result"
    }
   ],
   "source": [
    "arr"
   ]
  },
  {
   "cell_type": "code",
   "execution_count": 121,
   "id": "8674564d-407d-4208-98e5-c8952f754bf7",
   "metadata": {},
   "outputs": [
    {
     "data": {
      "text/plain": [
       "array([[[ 1,  2,  3],\n",
       "        [ 4,  5,  6]],\n",
       "\n",
       "       [[ 7,  8,  9],\n",
       "        [10, 11, 12]]])"
      ]
     },
     "execution_count": 121,
     "metadata": {},
     "output_type": "execute_result"
    }
   ],
   "source": [
    "arr3d"
   ]
  },
  {
   "cell_type": "code",
   "execution_count": 128,
   "id": "7395cca1-d56a-4445-8285-8dad327800da",
   "metadata": {},
   "outputs": [
    {
     "data": {
      "text/plain": [
       "array([[[3]]])"
      ]
     },
     "execution_count": 128,
     "metadata": {},
     "output_type": "execute_result"
    }
   ],
   "source": [
    "slice_3d = arr3d[:1,:1,2:3]\n",
    "\n",
    "slice_3d"
   ]
  },
  {
   "cell_type": "code",
   "execution_count": 129,
   "id": "e7ed40c8-779a-4153-ad8e-3f26f50a9656",
   "metadata": {},
   "outputs": [
    {
     "data": {
      "text/plain": [
       "array([[1, 2, 3],\n",
       "       [4, 5, 6],\n",
       "       [7, 8, 9]])"
      ]
     },
     "execution_count": 129,
     "metadata": {},
     "output_type": "execute_result"
    }
   ],
   "source": [
    "arr2d"
   ]
  },
  {
   "cell_type": "code",
   "execution_count": 131,
   "id": "5f5c72e0-98f8-4eff-a88f-b2ff7793830f",
   "metadata": {},
   "outputs": [
    {
     "data": {
      "text/plain": [
       "array([5, 6])"
      ]
     },
     "execution_count": 131,
     "metadata": {},
     "output_type": "execute_result"
    }
   ],
   "source": [
    "arr2d[1,1:3]"
   ]
  },
  {
   "cell_type": "code",
   "execution_count": 132,
   "id": "ee14aa38-0356-42b6-bd7d-6d1df773f966",
   "metadata": {},
   "outputs": [
    {
     "data": {
      "text/plain": [
       "array([3, 6])"
      ]
     },
     "execution_count": 132,
     "metadata": {},
     "output_type": "execute_result"
    }
   ],
   "source": [
    "arr2d[:2,2]"
   ]
  },
  {
   "cell_type": "code",
   "execution_count": 134,
   "id": "d3372c76-0d1e-4ac1-96ec-e32e33a2ff58",
   "metadata": {},
   "outputs": [
    {
     "data": {
      "text/plain": [
       "array([[3],\n",
       "       [6],\n",
       "       [9]])"
      ]
     },
     "execution_count": 134,
     "metadata": {},
     "output_type": "execute_result"
    }
   ],
   "source": [
    "arr2d[:3,2:3]"
   ]
  },
  {
   "cell_type": "code",
   "execution_count": 142,
   "id": "29c29a65-7700-4d7e-a7d3-011add14f99a",
   "metadata": {},
   "outputs": [],
   "source": [
    "names = np.array(['Bob', 'Joe', 'Will', 'Bob', 'Will', 'Joe', 'Joe'])\n",
    "\n",
    "data = np.random.randn(7, 4)"
   ]
  },
  {
   "cell_type": "code",
   "execution_count": 143,
   "id": "de8432dc-4d8c-4524-bc91-d06bacb731fa",
   "metadata": {},
   "outputs": [
    {
     "data": {
      "text/plain": [
       "array([False,  True, False, False, False,  True,  True])"
      ]
     },
     "execution_count": 143,
     "metadata": {},
     "output_type": "execute_result"
    }
   ],
   "source": [
    "names == 'Joe'"
   ]
  },
  {
   "cell_type": "code",
   "execution_count": 144,
   "id": "26300978-cdfb-425c-84ca-7c04e7e84ac5",
   "metadata": {},
   "outputs": [
    {
     "data": {
      "text/plain": [
       "array([[ 0.1710827 ,  0.62906388, -0.14145572, -0.19062071],\n",
       "       [ 0.64656692,  0.6261977 , -0.67121234,  1.21498715],\n",
       "       [-0.03815571,  0.6145596 , -0.61389842,  0.47891071]])"
      ]
     },
     "execution_count": 144,
     "metadata": {},
     "output_type": "execute_result"
    }
   ],
   "source": [
    "data[names == 'Joe']"
   ]
  },
  {
   "cell_type": "code",
   "execution_count": 145,
   "id": "029873dd-5d7d-4960-81c6-a8312ac0ed16",
   "metadata": {},
   "outputs": [
    {
     "data": {
      "text/plain": [
       "array([ True, False,  True,  True,  True, False, False])"
      ]
     },
     "execution_count": 145,
     "metadata": {},
     "output_type": "execute_result"
    }
   ],
   "source": [
    "names != 'Joe'"
   ]
  },
  {
   "cell_type": "code",
   "execution_count": 149,
   "id": "6fce49e7-68b4-43df-bb7e-878f2acdf1bc",
   "metadata": {},
   "outputs": [
    {
     "data": {
      "text/plain": [
       "array([[0.64656692, 0.6261977 ]])"
      ]
     },
     "execution_count": 149,
     "metadata": {},
     "output_type": "execute_result"
    }
   ],
   "source": [
    "data[names == 'Joe',:2][1:2]"
   ]
  },
  {
   "cell_type": "code",
   "execution_count": 150,
   "id": "9ed40a91-18fb-43af-a731-dabe4717713a",
   "metadata": {},
   "outputs": [
    {
     "data": {
      "text/plain": [
       "array([[-0.76537419,  0.85922415,  0.425839  , -1.29807315],\n",
       "       [ 2.27123789,  0.45545622,  1.17856424,  0.68394836],\n",
       "       [ 0.6991203 ,  1.57578791,  0.52601146, -1.63150198],\n",
       "       [ 0.08396151,  0.56417888, -1.54704158,  0.44342611]])"
      ]
     },
     "execution_count": 150,
     "metadata": {},
     "output_type": "execute_result"
    }
   ],
   "source": [
    "data[~(names == 'Joe')]"
   ]
  },
  {
   "cell_type": "code",
   "execution_count": 152,
   "id": "7f2463c0-a1cb-44e3-8ecb-80cd4eea77b2",
   "metadata": {},
   "outputs": [
    {
     "data": {
      "text/plain": [
       "array([[-0.76537419,  0.85922415,  0.425839  , -1.29807315],\n",
       "       [ 0.1710827 ,  0.62906388, -0.14145572, -0.19062071],\n",
       "       [ 0.6991203 ,  1.57578791,  0.52601146, -1.63150198],\n",
       "       [ 0.64656692,  0.6261977 , -0.67121234,  1.21498715],\n",
       "       [-0.03815571,  0.6145596 , -0.61389842,  0.47891071]])"
      ]
     },
     "execution_count": 152,
     "metadata": {},
     "output_type": "execute_result"
    }
   ],
   "source": [
    "data[(names == 'Joe')|(names == 'Bob')]"
   ]
  },
  {
   "cell_type": "code",
   "execution_count": 156,
   "id": "a4c00fe5-f776-48dc-b82f-8d503c797cfb",
   "metadata": {},
   "outputs": [
    {
     "data": {
      "text/plain": [
       "array([[7., 7., 7., 7.],\n",
       "       [7., 7., 7., 7.],\n",
       "       [7., 7., 7., 7.],\n",
       "       [7., 7., 7., 7.],\n",
       "       [7., 7., 7., 7.],\n",
       "       [7., 7., 7., 7.],\n",
       "       [7., 7., 7., 7.]])"
      ]
     },
     "execution_count": 156,
     "metadata": {},
     "output_type": "execute_result"
    }
   ],
   "source": [
    "data[names != 'Joe'] = 7\n",
    "\n",
    "data"
   ]
  },
  {
   "cell_type": "code",
   "execution_count": 163,
   "id": "9bbda062-ffbc-42bd-9075-fb7978499b88",
   "metadata": {},
   "outputs": [
    {
     "data": {
      "text/plain": [
       "array([[0., 0., 0., 0.],\n",
       "       [1., 1., 1., 1.],\n",
       "       [2., 2., 2., 2.],\n",
       "       [3., 3., 3., 3.],\n",
       "       [4., 4., 4., 4.],\n",
       "       [5., 5., 5., 5.],\n",
       "       [6., 6., 6., 6.],\n",
       "       [7., 7., 7., 7.]])"
      ]
     },
     "execution_count": 163,
     "metadata": {},
     "output_type": "execute_result"
    }
   ],
   "source": [
    "arr = np.empty((8, 4))\n",
    "\n",
    "for i in range(8):\n",
    "    arr[i] = i\n",
    "\n",
    "arr"
   ]
  },
  {
   "cell_type": "code",
   "execution_count": 165,
   "id": "0eb9a861-b99c-4fb6-9c07-846261f8a9d5",
   "metadata": {},
   "outputs": [
    {
     "data": {
      "text/plain": [
       "array([[3., 3., 3., 3.],\n",
       "       [5., 5., 5., 5.],\n",
       "       [7., 7., 7., 7.]])"
      ]
     },
     "execution_count": 165,
     "metadata": {},
     "output_type": "execute_result"
    }
   ],
   "source": [
    "arr[[3,5,7]]"
   ]
  },
  {
   "cell_type": "code",
   "execution_count": 166,
   "id": "92b6f9ea-3140-4e94-b751-5ac52e1c1e93",
   "metadata": {},
   "outputs": [
    {
     "data": {
      "text/plain": [
       "array([[ 0,  1,  2,  3],\n",
       "       [ 4,  5,  6,  7],\n",
       "       [ 8,  9, 10, 11],\n",
       "       [12, 13, 14, 15],\n",
       "       [16, 17, 18, 19],\n",
       "       [20, 21, 22, 23],\n",
       "       [24, 25, 26, 27],\n",
       "       [28, 29, 30, 31]])"
      ]
     },
     "execution_count": 166,
     "metadata": {},
     "output_type": "execute_result"
    }
   ],
   "source": [
    "arr = np.arange(32).reshape((8, 4))\n",
    "\n",
    "arr"
   ]
  },
  {
   "cell_type": "code",
   "execution_count": 167,
   "id": "a865ac8d-49ce-4067-a176-8a28575a63d0",
   "metadata": {},
   "outputs": [
    {
     "data": {
      "text/plain": [
       "array([ 4, 23, 29, 10])"
      ]
     },
     "execution_count": 167,
     "metadata": {},
     "output_type": "execute_result"
    }
   ],
   "source": [
    "arr[[1, 5, 7, 2], [0, 3, 1, 2]]"
   ]
  },
  {
   "cell_type": "code",
   "execution_count": 169,
   "id": "b5be1e4c-3667-45ef-ab98-d8d89ccefb08",
   "metadata": {},
   "outputs": [
    {
     "data": {
      "text/plain": [
       "array([[ 0,  1,  2,  3,  4],\n",
       "       [ 5,  6,  7,  8,  9],\n",
       "       [10, 11, 12, 13, 14]])"
      ]
     },
     "execution_count": 169,
     "metadata": {},
     "output_type": "execute_result"
    }
   ],
   "source": [
    "arr = np.arange(15).reshape((3, 5))\n",
    "\n",
    "arr"
   ]
  },
  {
   "cell_type": "code",
   "execution_count": 170,
   "id": "1c08e911-4f17-4e2a-af76-28270654bc39",
   "metadata": {},
   "outputs": [
    {
     "data": {
      "text/plain": [
       "array([[ 0,  5, 10],\n",
       "       [ 1,  6, 11],\n",
       "       [ 2,  7, 12],\n",
       "       [ 3,  8, 13],\n",
       "       [ 4,  9, 14]])"
      ]
     },
     "execution_count": 170,
     "metadata": {},
     "output_type": "execute_result"
    }
   ],
   "source": [
    "arr.T"
   ]
  },
  {
   "cell_type": "code",
   "execution_count": 171,
   "id": "17cdc1fc-68b9-404b-ae19-62c72d5700ba",
   "metadata": {},
   "outputs": [
    {
     "data": {
      "text/plain": [
       "array([[ 0.84857517,  1.47925773,  1.60092385],\n",
       "       [ 0.67075739, -1.03400451,  1.1748565 ],\n",
       "       [ 0.43529056,  0.34090414, -1.27414925],\n",
       "       [-1.26095092, -0.82676476, -1.36306466],\n",
       "       [ 2.65259724, -0.97601451,  0.18804313],\n",
       "       [-0.18248208, -0.23416375,  0.5419834 ]])"
      ]
     },
     "execution_count": 171,
     "metadata": {},
     "output_type": "execute_result"
    }
   ],
   "source": [
    "arr = np.random.randn(6, 3)\n",
    "arr"
   ]
  },
  {
   "cell_type": "code",
   "execution_count": 173,
   "id": "36307f6b-159b-43b1-b839-aec6aa72acac",
   "metadata": {},
   "outputs": [
    {
     "data": {
      "text/plain": [
       "array([[ 5.47124044,  0.92048469, -1.16615407, -4.47517252,  1.10819389,\n",
       "         0.36643585],\n",
       "       [ 0.92048469,  2.8993686 , -1.55746458, -1.59231903,  3.00937631,\n",
       "         0.7564779 ],\n",
       "       [-1.16615407, -1.55746458,  1.92914981,  0.90602025,  0.58232813,\n",
       "        -0.84982787],\n",
       "       [-4.47517252, -1.59231903,  0.90602025,  4.13148244, -2.79417549,\n",
       "        -0.31505914],\n",
       "       [ 1.10819389,  3.00937631,  0.58232813, -2.79417549,  8.02423668,\n",
       "        -0.15358798],\n",
       "       [ 0.36643585,  0.7564779 , -0.84982787, -0.31505914, -0.15358798,\n",
       "         0.38187838]])"
      ]
     },
     "execution_count": 173,
     "metadata": {},
     "output_type": "execute_result"
    }
   ],
   "source": [
    "np.dot(arr,arr.T)"
   ]
  },
  {
   "cell_type": "code",
   "execution_count": 174,
   "id": "417807fc-2633-45d6-a9d3-d188e315ea53",
   "metadata": {},
   "outputs": [
    {
     "data": {
      "text/plain": [
       "array([[[ 0,  1,  2,  3],\n",
       "        [ 4,  5,  6,  7]],\n",
       "\n",
       "       [[ 8,  9, 10, 11],\n",
       "        [12, 13, 14, 15]]])"
      ]
     },
     "execution_count": 174,
     "metadata": {},
     "output_type": "execute_result"
    }
   ],
   "source": [
    "arr = np.arange(16).reshape((2, 2, 4))\n",
    "\n",
    "arr"
   ]
  },
  {
   "cell_type": "code",
   "execution_count": 175,
   "id": "a9d90f95-cf3a-4569-b2c1-0bb7db541fc3",
   "metadata": {},
   "outputs": [
    {
     "data": {
      "text/plain": [
       "array([[[ 0,  8],\n",
       "        [ 4, 12]],\n",
       "\n",
       "       [[ 1,  9],\n",
       "        [ 5, 13]],\n",
       "\n",
       "       [[ 2, 10],\n",
       "        [ 6, 14]],\n",
       "\n",
       "       [[ 3, 11],\n",
       "        [ 7, 15]]])"
      ]
     },
     "execution_count": 175,
     "metadata": {},
     "output_type": "execute_result"
    }
   ],
   "source": [
    "arr.transpose(2,1,0)"
   ]
  },
  {
   "cell_type": "code",
   "execution_count": 176,
   "id": "b2e8a6d7-6680-47b3-9d61-7ba045d0b8c2",
   "metadata": {},
   "outputs": [
    {
     "data": {
      "text/plain": [
       "array([[[ 0,  1,  2,  3],\n",
       "        [ 4,  5,  6,  7]],\n",
       "\n",
       "       [[ 8,  9, 10, 11],\n",
       "        [12, 13, 14, 15]]])"
      ]
     },
     "execution_count": 176,
     "metadata": {},
     "output_type": "execute_result"
    }
   ],
   "source": [
    "arr"
   ]
  },
  {
   "cell_type": "code",
   "execution_count": 177,
   "id": "ed582aeb-8a08-444d-8df2-38f0624d9076",
   "metadata": {},
   "outputs": [
    {
     "data": {
      "text/plain": [
       "array([[[ 0,  4],\n",
       "        [ 1,  5],\n",
       "        [ 2,  6],\n",
       "        [ 3,  7]],\n",
       "\n",
       "       [[ 8, 12],\n",
       "        [ 9, 13],\n",
       "        [10, 14],\n",
       "        [11, 15]]])"
      ]
     },
     "execution_count": 177,
     "metadata": {},
     "output_type": "execute_result"
    }
   ],
   "source": [
    "arr.swapaxes(1,2)"
   ]
  },
  {
   "cell_type": "code",
   "execution_count": 178,
   "id": "4136e12c-2dac-4eeb-a045-9c5724797584",
   "metadata": {},
   "outputs": [
    {
     "data": {
      "text/plain": [
       "array([0, 1, 2, 3, 4, 5, 6, 7, 8, 9])"
      ]
     },
     "execution_count": 178,
     "metadata": {},
     "output_type": "execute_result"
    }
   ],
   "source": [
    "arr = np.arange(10)\n",
    "\n",
    "arr"
   ]
  },
  {
   "cell_type": "code",
   "execution_count": 180,
   "id": "71a085b9-ad85-4cc5-9e70-80d94f4845db",
   "metadata": {},
   "outputs": [
    {
     "data": {
      "text/plain": [
       "array([0.        , 1.        , 1.41421356, 1.73205081, 2.        ,\n",
       "       2.23606798, 2.44948974, 2.64575131, 2.82842712, 3.        ])"
      ]
     },
     "execution_count": 180,
     "metadata": {},
     "output_type": "execute_result"
    }
   ],
   "source": [
    "np.sqrt(arr)\n"
   ]
  },
  {
   "cell_type": "code",
   "execution_count": 181,
   "id": "6c41f963-9ea0-4fdf-84ef-3522f02f0e09",
   "metadata": {},
   "outputs": [
    {
     "data": {
      "text/plain": [
       "array([0, 1, 2, 3, 4, 5, 6, 7, 8, 9])"
      ]
     },
     "execution_count": 181,
     "metadata": {},
     "output_type": "execute_result"
    }
   ],
   "source": [
    "arr"
   ]
  },
  {
   "cell_type": "code",
   "execution_count": 182,
   "id": "df661f15-0909-4328-9bf8-8464d0d87275",
   "metadata": {},
   "outputs": [
    {
     "data": {
      "text/plain": [
       "array([1.00000000e+00, 2.71828183e+00, 7.38905610e+00, 2.00855369e+01,\n",
       "       5.45981500e+01, 1.48413159e+02, 4.03428793e+02, 1.09663316e+03,\n",
       "       2.98095799e+03, 8.10308393e+03])"
      ]
     },
     "execution_count": 182,
     "metadata": {},
     "output_type": "execute_result"
    }
   ],
   "source": [
    "np.exp(arr)"
   ]
  },
  {
   "cell_type": "code",
   "execution_count": 184,
   "id": "07f4b45e-b52a-4742-9ab7-ed7c93063f3d",
   "metadata": {},
   "outputs": [],
   "source": [
    "x = np.random.randn(32)\n",
    "\n",
    "y = np.random.randn(32)"
   ]
  },
  {
   "cell_type": "code",
   "execution_count": 185,
   "id": "675a37d6-afe0-43bd-85fb-fd727b11cf53",
   "metadata": {},
   "outputs": [
    {
     "data": {
      "text/plain": [
       "array([-0.35354758,  1.9007574 ,  0.4198884 ,  0.78378628,  1.11821304,\n",
       "        0.99702618,  0.78541763, -0.48310072,  0.96280162,  0.91567515,\n",
       "       -0.9968524 , -1.15375273, -0.70293846, -0.64365064, -0.0785601 ,\n",
       "       -1.52520492, -0.34460248,  0.46281313,  1.95564383,  2.42669068,\n",
       "       -0.0859968 ,  0.47905441,  1.20924474, -0.03520889,  1.01942124,\n",
       "       -0.97480276, -0.74064324, -0.20489053,  1.60466899, -0.22242603,\n",
       "       -0.10560725, -1.15002062])"
      ]
     },
     "execution_count": 185,
     "metadata": {},
     "output_type": "execute_result"
    }
   ],
   "source": [
    "x"
   ]
  },
  {
   "cell_type": "code",
   "execution_count": 186,
   "id": "9c91cd68-4034-4c88-a4c4-57df351666ce",
   "metadata": {},
   "outputs": [
    {
     "data": {
      "text/plain": [
       "array([ 0.07877561, -0.82400977, -0.30918202, -2.02023428, -0.49623827,\n",
       "       -0.41375831, -0.28697795, -0.76563963,  0.13187853,  0.91383793,\n",
       "       -0.51022873,  0.54466417,  1.39825013, -0.62225987,  0.01273945,\n",
       "        1.94927492,  0.74782132,  0.26656578, -0.13481079, -1.21523883,\n",
       "        0.46748828, -0.70680994, -1.34425177,  0.32272763,  1.41029455,\n",
       "       -0.0506761 , -1.18230524,  0.78112561,  1.50570194,  0.75867671,\n",
       "        0.07811728,  0.35284032])"
      ]
     },
     "execution_count": 186,
     "metadata": {},
     "output_type": "execute_result"
    }
   ],
   "source": [
    "y"
   ]
  },
  {
   "cell_type": "code",
   "execution_count": 187,
   "id": "0dd42a51-fadf-4533-9014-eaf5594cb66a",
   "metadata": {},
   "outputs": [
    {
     "data": {
      "text/plain": [
       "array([ 0.07877561,  1.9007574 ,  0.4198884 ,  0.78378628,  1.11821304,\n",
       "        0.99702618,  0.78541763, -0.48310072,  0.96280162,  0.91567515,\n",
       "       -0.51022873,  0.54466417,  1.39825013, -0.62225987,  0.01273945,\n",
       "        1.94927492,  0.74782132,  0.46281313,  1.95564383,  2.42669068,\n",
       "        0.46748828,  0.47905441,  1.20924474,  0.32272763,  1.41029455,\n",
       "       -0.0506761 , -0.74064324,  0.78112561,  1.60466899,  0.75867671,\n",
       "        0.07811728,  0.35284032])"
      ]
     },
     "execution_count": 187,
     "metadata": {},
     "output_type": "execute_result"
    }
   ],
   "source": [
    "np.maximum(x,y)"
   ]
  },
  {
   "cell_type": "code",
   "execution_count": 189,
   "id": "b938d404-dec6-4656-af84-2f8ca8781624",
   "metadata": {},
   "outputs": [
    {
     "data": {
      "text/plain": [
       "array([ 5.15633371,  4.47533411, -2.55971817,  9.26486696, -1.65998598,\n",
       "        3.28963769,  4.79076423])"
      ]
     },
     "execution_count": 189,
     "metadata": {},
     "output_type": "execute_result"
    }
   ],
   "source": [
    "arr = np.random.randn(7) * 5\n",
    "\n",
    "arr"
   ]
  },
  {
   "cell_type": "code",
   "execution_count": 191,
   "id": "48100f65-2fa6-4709-b951-b316ecf99187",
   "metadata": {},
   "outputs": [
    {
     "data": {
      "text/plain": [
       "array([ 0.15633371,  0.47533411, -0.55971817,  0.26486696, -0.65998598,\n",
       "        0.28963769,  0.79076423])"
      ]
     },
     "execution_count": 191,
     "metadata": {},
     "output_type": "execute_result"
    }
   ],
   "source": [
    "remainder, whole_part = np.modf(arr)\n",
    "\n",
    "remainder"
   ]
  },
  {
   "cell_type": "code",
   "execution_count": 192,
   "id": "6874485f-9ca8-47e9-9c63-8e081879fd19",
   "metadata": {},
   "outputs": [
    {
     "data": {
      "text/plain": [
       "array([ 5.,  4., -2.,  9., -1.,  3.,  4.])"
      ]
     },
     "execution_count": 192,
     "metadata": {},
     "output_type": "execute_result"
    }
   ],
   "source": [
    "whole_part"
   ]
  },
  {
   "cell_type": "code",
   "execution_count": 193,
   "id": "69108547-2af5-4c63-b157-7e3abb59b5dc",
   "metadata": {},
   "outputs": [
    {
     "data": {
      "text/plain": [
       "array([ 5.15633371,  4.47533411, -2.55971817,  9.26486696, -1.65998598,\n",
       "        3.28963769,  4.79076423])"
      ]
     },
     "execution_count": 193,
     "metadata": {},
     "output_type": "execute_result"
    }
   ],
   "source": [
    "arr"
   ]
  },
  {
   "cell_type": "code",
   "execution_count": 194,
   "id": "7303d39e-ca8a-46ec-89b0-c974846d7a80",
   "metadata": {},
   "outputs": [
    {
     "name": "stderr",
     "output_type": "stream",
     "text": [
      "C:\\Users\\ROG-LiBai\\AppData\\Local\\Temp\\ipykernel_27968\\2296558006.py:1: RuntimeWarning: invalid value encountered in sqrt\n",
      "  np.sqrt(arr)\n"
     ]
    },
    {
     "data": {
      "text/plain": [
       "array([2.2707562 , 2.11549855,        nan, 3.0438244 ,        nan,\n",
       "       1.81373584, 2.18878145])"
      ]
     },
     "execution_count": 194,
     "metadata": {},
     "output_type": "execute_result"
    }
   ],
   "source": [
    "np.sqrt(arr)"
   ]
  },
  {
   "cell_type": "code",
   "execution_count": 195,
   "id": "59760289-564f-4e99-a96f-cdbed0f4da60",
   "metadata": {},
   "outputs": [
    {
     "data": {
      "text/plain": [
       "array([ 5.15633371,  4.47533411, -2.55971817,  9.26486696, -1.65998598,\n",
       "        3.28963769,  4.79076423])"
      ]
     },
     "execution_count": 195,
     "metadata": {},
     "output_type": "execute_result"
    }
   ],
   "source": [
    "arr"
   ]
  },
  {
   "cell_type": "code",
   "execution_count": 196,
   "id": "3b21b653-dcb7-4cdb-8cf3-fc05cbd8793c",
   "metadata": {},
   "outputs": [
    {
     "name": "stderr",
     "output_type": "stream",
     "text": [
      "C:\\Users\\ROG-LiBai\\AppData\\Local\\Temp\\ipykernel_27968\\269955669.py:1: RuntimeWarning: invalid value encountered in sqrt\n",
      "  np.sqrt(arr, arr)\n"
     ]
    },
    {
     "data": {
      "text/plain": [
       "array([2.2707562 , 2.11549855,        nan, 3.0438244 ,        nan,\n",
       "       1.81373584, 2.18878145])"
      ]
     },
     "execution_count": 196,
     "metadata": {},
     "output_type": "execute_result"
    }
   ],
   "source": [
    "np.sqrt(arr, arr)"
   ]
  },
  {
   "cell_type": "code",
   "execution_count": 197,
   "id": "4b0312c2-d242-4989-b95b-f0ab1542b16a",
   "metadata": {},
   "outputs": [
    {
     "data": {
      "text/plain": [
       "array([2.2707562 , 2.11549855,        nan, 3.0438244 ,        nan,\n",
       "       1.81373584, 2.18878145])"
      ]
     },
     "execution_count": 197,
     "metadata": {},
     "output_type": "execute_result"
    }
   ],
   "source": [
    "arr"
   ]
  },
  {
   "cell_type": "code",
   "execution_count": null,
   "id": "875ab851-ec56-4fac-aa9e-676516b10be3",
   "metadata": {},
   "outputs": [],
   "source": [
    "##\n",
    "4.3利用数组进行数据处理"
   ]
  },
  {
   "cell_type": "code",
   "execution_count": 4,
   "id": "e388a556-49fe-48c5-968f-9f907eda4198",
   "metadata": {},
   "outputs": [
    {
     "data": {
      "text/plain": [
       "array([-5.0000000e+00, -4.9900000e+00, -4.9800000e+00, -4.9700000e+00,\n",
       "       -4.9600000e+00, -4.9500000e+00, -4.9400000e+00, -4.9300000e+00,\n",
       "       -4.9200000e+00, -4.9100000e+00, -4.9000000e+00, -4.8900000e+00,\n",
       "       -4.8800000e+00, -4.8700000e+00, -4.8600000e+00, -4.8500000e+00,\n",
       "       -4.8400000e+00, -4.8300000e+00, -4.8200000e+00, -4.8100000e+00,\n",
       "       -4.8000000e+00, -4.7900000e+00, -4.7800000e+00, -4.7700000e+00,\n",
       "       -4.7600000e+00, -4.7500000e+00, -4.7400000e+00, -4.7300000e+00,\n",
       "       -4.7200000e+00, -4.7100000e+00, -4.7000000e+00, -4.6900000e+00,\n",
       "       -4.6800000e+00, -4.6700000e+00, -4.6600000e+00, -4.6500000e+00,\n",
       "       -4.6400000e+00, -4.6300000e+00, -4.6200000e+00, -4.6100000e+00,\n",
       "       -4.6000000e+00, -4.5900000e+00, -4.5800000e+00, -4.5700000e+00,\n",
       "       -4.5600000e+00, -4.5500000e+00, -4.5400000e+00, -4.5300000e+00,\n",
       "       -4.5200000e+00, -4.5100000e+00, -4.5000000e+00, -4.4900000e+00,\n",
       "       -4.4800000e+00, -4.4700000e+00, -4.4600000e+00, -4.4500000e+00,\n",
       "       -4.4400000e+00, -4.4300000e+00, -4.4200000e+00, -4.4100000e+00,\n",
       "       -4.4000000e+00, -4.3900000e+00, -4.3800000e+00, -4.3700000e+00,\n",
       "       -4.3600000e+00, -4.3500000e+00, -4.3400000e+00, -4.3300000e+00,\n",
       "       -4.3200000e+00, -4.3100000e+00, -4.3000000e+00, -4.2900000e+00,\n",
       "       -4.2800000e+00, -4.2700000e+00, -4.2600000e+00, -4.2500000e+00,\n",
       "       -4.2400000e+00, -4.2300000e+00, -4.2200000e+00, -4.2100000e+00,\n",
       "       -4.2000000e+00, -4.1900000e+00, -4.1800000e+00, -4.1700000e+00,\n",
       "       -4.1600000e+00, -4.1500000e+00, -4.1400000e+00, -4.1300000e+00,\n",
       "       -4.1200000e+00, -4.1100000e+00, -4.1000000e+00, -4.0900000e+00,\n",
       "       -4.0800000e+00, -4.0700000e+00, -4.0600000e+00, -4.0500000e+00,\n",
       "       -4.0400000e+00, -4.0300000e+00, -4.0200000e+00, -4.0100000e+00,\n",
       "       -4.0000000e+00, -3.9900000e+00, -3.9800000e+00, -3.9700000e+00,\n",
       "       -3.9600000e+00, -3.9500000e+00, -3.9400000e+00, -3.9300000e+00,\n",
       "       -3.9200000e+00, -3.9100000e+00, -3.9000000e+00, -3.8900000e+00,\n",
       "       -3.8800000e+00, -3.8700000e+00, -3.8600000e+00, -3.8500000e+00,\n",
       "       -3.8400000e+00, -3.8300000e+00, -3.8200000e+00, -3.8100000e+00,\n",
       "       -3.8000000e+00, -3.7900000e+00, -3.7800000e+00, -3.7700000e+00,\n",
       "       -3.7600000e+00, -3.7500000e+00, -3.7400000e+00, -3.7300000e+00,\n",
       "       -3.7200000e+00, -3.7100000e+00, -3.7000000e+00, -3.6900000e+00,\n",
       "       -3.6800000e+00, -3.6700000e+00, -3.6600000e+00, -3.6500000e+00,\n",
       "       -3.6400000e+00, -3.6300000e+00, -3.6200000e+00, -3.6100000e+00,\n",
       "       -3.6000000e+00, -3.5900000e+00, -3.5800000e+00, -3.5700000e+00,\n",
       "       -3.5600000e+00, -3.5500000e+00, -3.5400000e+00, -3.5300000e+00,\n",
       "       -3.5200000e+00, -3.5100000e+00, -3.5000000e+00, -3.4900000e+00,\n",
       "       -3.4800000e+00, -3.4700000e+00, -3.4600000e+00, -3.4500000e+00,\n",
       "       -3.4400000e+00, -3.4300000e+00, -3.4200000e+00, -3.4100000e+00,\n",
       "       -3.4000000e+00, -3.3900000e+00, -3.3800000e+00, -3.3700000e+00,\n",
       "       -3.3600000e+00, -3.3500000e+00, -3.3400000e+00, -3.3300000e+00,\n",
       "       -3.3200000e+00, -3.3100000e+00, -3.3000000e+00, -3.2900000e+00,\n",
       "       -3.2800000e+00, -3.2700000e+00, -3.2600000e+00, -3.2500000e+00,\n",
       "       -3.2400000e+00, -3.2300000e+00, -3.2200000e+00, -3.2100000e+00,\n",
       "       -3.2000000e+00, -3.1900000e+00, -3.1800000e+00, -3.1700000e+00,\n",
       "       -3.1600000e+00, -3.1500000e+00, -3.1400000e+00, -3.1300000e+00,\n",
       "       -3.1200000e+00, -3.1100000e+00, -3.1000000e+00, -3.0900000e+00,\n",
       "       -3.0800000e+00, -3.0700000e+00, -3.0600000e+00, -3.0500000e+00,\n",
       "       -3.0400000e+00, -3.0300000e+00, -3.0200000e+00, -3.0100000e+00,\n",
       "       -3.0000000e+00, -2.9900000e+00, -2.9800000e+00, -2.9700000e+00,\n",
       "       -2.9600000e+00, -2.9500000e+00, -2.9400000e+00, -2.9300000e+00,\n",
       "       -2.9200000e+00, -2.9100000e+00, -2.9000000e+00, -2.8900000e+00,\n",
       "       -2.8800000e+00, -2.8700000e+00, -2.8600000e+00, -2.8500000e+00,\n",
       "       -2.8400000e+00, -2.8300000e+00, -2.8200000e+00, -2.8100000e+00,\n",
       "       -2.8000000e+00, -2.7900000e+00, -2.7800000e+00, -2.7700000e+00,\n",
       "       -2.7600000e+00, -2.7500000e+00, -2.7400000e+00, -2.7300000e+00,\n",
       "       -2.7200000e+00, -2.7100000e+00, -2.7000000e+00, -2.6900000e+00,\n",
       "       -2.6800000e+00, -2.6700000e+00, -2.6600000e+00, -2.6500000e+00,\n",
       "       -2.6400000e+00, -2.6300000e+00, -2.6200000e+00, -2.6100000e+00,\n",
       "       -2.6000000e+00, -2.5900000e+00, -2.5800000e+00, -2.5700000e+00,\n",
       "       -2.5600000e+00, -2.5500000e+00, -2.5400000e+00, -2.5300000e+00,\n",
       "       -2.5200000e+00, -2.5100000e+00, -2.5000000e+00, -2.4900000e+00,\n",
       "       -2.4800000e+00, -2.4700000e+00, -2.4600000e+00, -2.4500000e+00,\n",
       "       -2.4400000e+00, -2.4300000e+00, -2.4200000e+00, -2.4100000e+00,\n",
       "       -2.4000000e+00, -2.3900000e+00, -2.3800000e+00, -2.3700000e+00,\n",
       "       -2.3600000e+00, -2.3500000e+00, -2.3400000e+00, -2.3300000e+00,\n",
       "       -2.3200000e+00, -2.3100000e+00, -2.3000000e+00, -2.2900000e+00,\n",
       "       -2.2800000e+00, -2.2700000e+00, -2.2600000e+00, -2.2500000e+00,\n",
       "       -2.2400000e+00, -2.2300000e+00, -2.2200000e+00, -2.2100000e+00,\n",
       "       -2.2000000e+00, -2.1900000e+00, -2.1800000e+00, -2.1700000e+00,\n",
       "       -2.1600000e+00, -2.1500000e+00, -2.1400000e+00, -2.1300000e+00,\n",
       "       -2.1200000e+00, -2.1100000e+00, -2.1000000e+00, -2.0900000e+00,\n",
       "       -2.0800000e+00, -2.0700000e+00, -2.0600000e+00, -2.0500000e+00,\n",
       "       -2.0400000e+00, -2.0300000e+00, -2.0200000e+00, -2.0100000e+00,\n",
       "       -2.0000000e+00, -1.9900000e+00, -1.9800000e+00, -1.9700000e+00,\n",
       "       -1.9600000e+00, -1.9500000e+00, -1.9400000e+00, -1.9300000e+00,\n",
       "       -1.9200000e+00, -1.9100000e+00, -1.9000000e+00, -1.8900000e+00,\n",
       "       -1.8800000e+00, -1.8700000e+00, -1.8600000e+00, -1.8500000e+00,\n",
       "       -1.8400000e+00, -1.8300000e+00, -1.8200000e+00, -1.8100000e+00,\n",
       "       -1.8000000e+00, -1.7900000e+00, -1.7800000e+00, -1.7700000e+00,\n",
       "       -1.7600000e+00, -1.7500000e+00, -1.7400000e+00, -1.7300000e+00,\n",
       "       -1.7200000e+00, -1.7100000e+00, -1.7000000e+00, -1.6900000e+00,\n",
       "       -1.6800000e+00, -1.6700000e+00, -1.6600000e+00, -1.6500000e+00,\n",
       "       -1.6400000e+00, -1.6300000e+00, -1.6200000e+00, -1.6100000e+00,\n",
       "       -1.6000000e+00, -1.5900000e+00, -1.5800000e+00, -1.5700000e+00,\n",
       "       -1.5600000e+00, -1.5500000e+00, -1.5400000e+00, -1.5300000e+00,\n",
       "       -1.5200000e+00, -1.5100000e+00, -1.5000000e+00, -1.4900000e+00,\n",
       "       -1.4800000e+00, -1.4700000e+00, -1.4600000e+00, -1.4500000e+00,\n",
       "       -1.4400000e+00, -1.4300000e+00, -1.4200000e+00, -1.4100000e+00,\n",
       "       -1.4000000e+00, -1.3900000e+00, -1.3800000e+00, -1.3700000e+00,\n",
       "       -1.3600000e+00, -1.3500000e+00, -1.3400000e+00, -1.3300000e+00,\n",
       "       -1.3200000e+00, -1.3100000e+00, -1.3000000e+00, -1.2900000e+00,\n",
       "       -1.2800000e+00, -1.2700000e+00, -1.2600000e+00, -1.2500000e+00,\n",
       "       -1.2400000e+00, -1.2300000e+00, -1.2200000e+00, -1.2100000e+00,\n",
       "       -1.2000000e+00, -1.1900000e+00, -1.1800000e+00, -1.1700000e+00,\n",
       "       -1.1600000e+00, -1.1500000e+00, -1.1400000e+00, -1.1300000e+00,\n",
       "       -1.1200000e+00, -1.1100000e+00, -1.1000000e+00, -1.0900000e+00,\n",
       "       -1.0800000e+00, -1.0700000e+00, -1.0600000e+00, -1.0500000e+00,\n",
       "       -1.0400000e+00, -1.0300000e+00, -1.0200000e+00, -1.0100000e+00,\n",
       "       -1.0000000e+00, -9.9000000e-01, -9.8000000e-01, -9.7000000e-01,\n",
       "       -9.6000000e-01, -9.5000000e-01, -9.4000000e-01, -9.3000000e-01,\n",
       "       -9.2000000e-01, -9.1000000e-01, -9.0000000e-01, -8.9000000e-01,\n",
       "       -8.8000000e-01, -8.7000000e-01, -8.6000000e-01, -8.5000000e-01,\n",
       "       -8.4000000e-01, -8.3000000e-01, -8.2000000e-01, -8.1000000e-01,\n",
       "       -8.0000000e-01, -7.9000000e-01, -7.8000000e-01, -7.7000000e-01,\n",
       "       -7.6000000e-01, -7.5000000e-01, -7.4000000e-01, -7.3000000e-01,\n",
       "       -7.2000000e-01, -7.1000000e-01, -7.0000000e-01, -6.9000000e-01,\n",
       "       -6.8000000e-01, -6.7000000e-01, -6.6000000e-01, -6.5000000e-01,\n",
       "       -6.4000000e-01, -6.3000000e-01, -6.2000000e-01, -6.1000000e-01,\n",
       "       -6.0000000e-01, -5.9000000e-01, -5.8000000e-01, -5.7000000e-01,\n",
       "       -5.6000000e-01, -5.5000000e-01, -5.4000000e-01, -5.3000000e-01,\n",
       "       -5.2000000e-01, -5.1000000e-01, -5.0000000e-01, -4.9000000e-01,\n",
       "       -4.8000000e-01, -4.7000000e-01, -4.6000000e-01, -4.5000000e-01,\n",
       "       -4.4000000e-01, -4.3000000e-01, -4.2000000e-01, -4.1000000e-01,\n",
       "       -4.0000000e-01, -3.9000000e-01, -3.8000000e-01, -3.7000000e-01,\n",
       "       -3.6000000e-01, -3.5000000e-01, -3.4000000e-01, -3.3000000e-01,\n",
       "       -3.2000000e-01, -3.1000000e-01, -3.0000000e-01, -2.9000000e-01,\n",
       "       -2.8000000e-01, -2.7000000e-01, -2.6000000e-01, -2.5000000e-01,\n",
       "       -2.4000000e-01, -2.3000000e-01, -2.2000000e-01, -2.1000000e-01,\n",
       "       -2.0000000e-01, -1.9000000e-01, -1.8000000e-01, -1.7000000e-01,\n",
       "       -1.6000000e-01, -1.5000000e-01, -1.4000000e-01, -1.3000000e-01,\n",
       "       -1.2000000e-01, -1.1000000e-01, -1.0000000e-01, -9.0000000e-02,\n",
       "       -8.0000000e-02, -7.0000000e-02, -6.0000000e-02, -5.0000000e-02,\n",
       "       -4.0000000e-02, -3.0000000e-02, -2.0000000e-02, -1.0000000e-02,\n",
       "       -1.0658141e-13,  1.0000000e-02,  2.0000000e-02,  3.0000000e-02,\n",
       "        4.0000000e-02,  5.0000000e-02,  6.0000000e-02,  7.0000000e-02,\n",
       "        8.0000000e-02,  9.0000000e-02,  1.0000000e-01,  1.1000000e-01,\n",
       "        1.2000000e-01,  1.3000000e-01,  1.4000000e-01,  1.5000000e-01,\n",
       "        1.6000000e-01,  1.7000000e-01,  1.8000000e-01,  1.9000000e-01,\n",
       "        2.0000000e-01,  2.1000000e-01,  2.2000000e-01,  2.3000000e-01,\n",
       "        2.4000000e-01,  2.5000000e-01,  2.6000000e-01,  2.7000000e-01,\n",
       "        2.8000000e-01,  2.9000000e-01,  3.0000000e-01,  3.1000000e-01,\n",
       "        3.2000000e-01,  3.3000000e-01,  3.4000000e-01,  3.5000000e-01,\n",
       "        3.6000000e-01,  3.7000000e-01,  3.8000000e-01,  3.9000000e-01,\n",
       "        4.0000000e-01,  4.1000000e-01,  4.2000000e-01,  4.3000000e-01,\n",
       "        4.4000000e-01,  4.5000000e-01,  4.6000000e-01,  4.7000000e-01,\n",
       "        4.8000000e-01,  4.9000000e-01,  5.0000000e-01,  5.1000000e-01,\n",
       "        5.2000000e-01,  5.3000000e-01,  5.4000000e-01,  5.5000000e-01,\n",
       "        5.6000000e-01,  5.7000000e-01,  5.8000000e-01,  5.9000000e-01,\n",
       "        6.0000000e-01,  6.1000000e-01,  6.2000000e-01,  6.3000000e-01,\n",
       "        6.4000000e-01,  6.5000000e-01,  6.6000000e-01,  6.7000000e-01,\n",
       "        6.8000000e-01,  6.9000000e-01,  7.0000000e-01,  7.1000000e-01,\n",
       "        7.2000000e-01,  7.3000000e-01,  7.4000000e-01,  7.5000000e-01,\n",
       "        7.6000000e-01,  7.7000000e-01,  7.8000000e-01,  7.9000000e-01,\n",
       "        8.0000000e-01,  8.1000000e-01,  8.2000000e-01,  8.3000000e-01,\n",
       "        8.4000000e-01,  8.5000000e-01,  8.6000000e-01,  8.7000000e-01,\n",
       "        8.8000000e-01,  8.9000000e-01,  9.0000000e-01,  9.1000000e-01,\n",
       "        9.2000000e-01,  9.3000000e-01,  9.4000000e-01,  9.5000000e-01,\n",
       "        9.6000000e-01,  9.7000000e-01,  9.8000000e-01,  9.9000000e-01,\n",
       "        1.0000000e+00,  1.0100000e+00,  1.0200000e+00,  1.0300000e+00,\n",
       "        1.0400000e+00,  1.0500000e+00,  1.0600000e+00,  1.0700000e+00,\n",
       "        1.0800000e+00,  1.0900000e+00,  1.1000000e+00,  1.1100000e+00,\n",
       "        1.1200000e+00,  1.1300000e+00,  1.1400000e+00,  1.1500000e+00,\n",
       "        1.1600000e+00,  1.1700000e+00,  1.1800000e+00,  1.1900000e+00,\n",
       "        1.2000000e+00,  1.2100000e+00,  1.2200000e+00,  1.2300000e+00,\n",
       "        1.2400000e+00,  1.2500000e+00,  1.2600000e+00,  1.2700000e+00,\n",
       "        1.2800000e+00,  1.2900000e+00,  1.3000000e+00,  1.3100000e+00,\n",
       "        1.3200000e+00,  1.3300000e+00,  1.3400000e+00,  1.3500000e+00,\n",
       "        1.3600000e+00,  1.3700000e+00,  1.3800000e+00,  1.3900000e+00,\n",
       "        1.4000000e+00,  1.4100000e+00,  1.4200000e+00,  1.4300000e+00,\n",
       "        1.4400000e+00,  1.4500000e+00,  1.4600000e+00,  1.4700000e+00,\n",
       "        1.4800000e+00,  1.4900000e+00,  1.5000000e+00,  1.5100000e+00,\n",
       "        1.5200000e+00,  1.5300000e+00,  1.5400000e+00,  1.5500000e+00,\n",
       "        1.5600000e+00,  1.5700000e+00,  1.5800000e+00,  1.5900000e+00,\n",
       "        1.6000000e+00,  1.6100000e+00,  1.6200000e+00,  1.6300000e+00,\n",
       "        1.6400000e+00,  1.6500000e+00,  1.6600000e+00,  1.6700000e+00,\n",
       "        1.6800000e+00,  1.6900000e+00,  1.7000000e+00,  1.7100000e+00,\n",
       "        1.7200000e+00,  1.7300000e+00,  1.7400000e+00,  1.7500000e+00,\n",
       "        1.7600000e+00,  1.7700000e+00,  1.7800000e+00,  1.7900000e+00,\n",
       "        1.8000000e+00,  1.8100000e+00,  1.8200000e+00,  1.8300000e+00,\n",
       "        1.8400000e+00,  1.8500000e+00,  1.8600000e+00,  1.8700000e+00,\n",
       "        1.8800000e+00,  1.8900000e+00,  1.9000000e+00,  1.9100000e+00,\n",
       "        1.9200000e+00,  1.9300000e+00,  1.9400000e+00,  1.9500000e+00,\n",
       "        1.9600000e+00,  1.9700000e+00,  1.9800000e+00,  1.9900000e+00,\n",
       "        2.0000000e+00,  2.0100000e+00,  2.0200000e+00,  2.0300000e+00,\n",
       "        2.0400000e+00,  2.0500000e+00,  2.0600000e+00,  2.0700000e+00,\n",
       "        2.0800000e+00,  2.0900000e+00,  2.1000000e+00,  2.1100000e+00,\n",
       "        2.1200000e+00,  2.1300000e+00,  2.1400000e+00,  2.1500000e+00,\n",
       "        2.1600000e+00,  2.1700000e+00,  2.1800000e+00,  2.1900000e+00,\n",
       "        2.2000000e+00,  2.2100000e+00,  2.2200000e+00,  2.2300000e+00,\n",
       "        2.2400000e+00,  2.2500000e+00,  2.2600000e+00,  2.2700000e+00,\n",
       "        2.2800000e+00,  2.2900000e+00,  2.3000000e+00,  2.3100000e+00,\n",
       "        2.3200000e+00,  2.3300000e+00,  2.3400000e+00,  2.3500000e+00,\n",
       "        2.3600000e+00,  2.3700000e+00,  2.3800000e+00,  2.3900000e+00,\n",
       "        2.4000000e+00,  2.4100000e+00,  2.4200000e+00,  2.4300000e+00,\n",
       "        2.4400000e+00,  2.4500000e+00,  2.4600000e+00,  2.4700000e+00,\n",
       "        2.4800000e+00,  2.4900000e+00,  2.5000000e+00,  2.5100000e+00,\n",
       "        2.5200000e+00,  2.5300000e+00,  2.5400000e+00,  2.5500000e+00,\n",
       "        2.5600000e+00,  2.5700000e+00,  2.5800000e+00,  2.5900000e+00,\n",
       "        2.6000000e+00,  2.6100000e+00,  2.6200000e+00,  2.6300000e+00,\n",
       "        2.6400000e+00,  2.6500000e+00,  2.6600000e+00,  2.6700000e+00,\n",
       "        2.6800000e+00,  2.6900000e+00,  2.7000000e+00,  2.7100000e+00,\n",
       "        2.7200000e+00,  2.7300000e+00,  2.7400000e+00,  2.7500000e+00,\n",
       "        2.7600000e+00,  2.7700000e+00,  2.7800000e+00,  2.7900000e+00,\n",
       "        2.8000000e+00,  2.8100000e+00,  2.8200000e+00,  2.8300000e+00,\n",
       "        2.8400000e+00,  2.8500000e+00,  2.8600000e+00,  2.8700000e+00,\n",
       "        2.8800000e+00,  2.8900000e+00,  2.9000000e+00,  2.9100000e+00,\n",
       "        2.9200000e+00,  2.9300000e+00,  2.9400000e+00,  2.9500000e+00,\n",
       "        2.9600000e+00,  2.9700000e+00,  2.9800000e+00,  2.9900000e+00,\n",
       "        3.0000000e+00,  3.0100000e+00,  3.0200000e+00,  3.0300000e+00,\n",
       "        3.0400000e+00,  3.0500000e+00,  3.0600000e+00,  3.0700000e+00,\n",
       "        3.0800000e+00,  3.0900000e+00,  3.1000000e+00,  3.1100000e+00,\n",
       "        3.1200000e+00,  3.1300000e+00,  3.1400000e+00,  3.1500000e+00,\n",
       "        3.1600000e+00,  3.1700000e+00,  3.1800000e+00,  3.1900000e+00,\n",
       "        3.2000000e+00,  3.2100000e+00,  3.2200000e+00,  3.2300000e+00,\n",
       "        3.2400000e+00,  3.2500000e+00,  3.2600000e+00,  3.2700000e+00,\n",
       "        3.2800000e+00,  3.2900000e+00,  3.3000000e+00,  3.3100000e+00,\n",
       "        3.3200000e+00,  3.3300000e+00,  3.3400000e+00,  3.3500000e+00,\n",
       "        3.3600000e+00,  3.3700000e+00,  3.3800000e+00,  3.3900000e+00,\n",
       "        3.4000000e+00,  3.4100000e+00,  3.4200000e+00,  3.4300000e+00,\n",
       "        3.4400000e+00,  3.4500000e+00,  3.4600000e+00,  3.4700000e+00,\n",
       "        3.4800000e+00,  3.4900000e+00,  3.5000000e+00,  3.5100000e+00,\n",
       "        3.5200000e+00,  3.5300000e+00,  3.5400000e+00,  3.5500000e+00,\n",
       "        3.5600000e+00,  3.5700000e+00,  3.5800000e+00,  3.5900000e+00,\n",
       "        3.6000000e+00,  3.6100000e+00,  3.6200000e+00,  3.6300000e+00,\n",
       "        3.6400000e+00,  3.6500000e+00,  3.6600000e+00,  3.6700000e+00,\n",
       "        3.6800000e+00,  3.6900000e+00,  3.7000000e+00,  3.7100000e+00,\n",
       "        3.7200000e+00,  3.7300000e+00,  3.7400000e+00,  3.7500000e+00,\n",
       "        3.7600000e+00,  3.7700000e+00,  3.7800000e+00,  3.7900000e+00,\n",
       "        3.8000000e+00,  3.8100000e+00,  3.8200000e+00,  3.8300000e+00,\n",
       "        3.8400000e+00,  3.8500000e+00,  3.8600000e+00,  3.8700000e+00,\n",
       "        3.8800000e+00,  3.8900000e+00,  3.9000000e+00,  3.9100000e+00,\n",
       "        3.9200000e+00,  3.9300000e+00,  3.9400000e+00,  3.9500000e+00,\n",
       "        3.9600000e+00,  3.9700000e+00,  3.9800000e+00,  3.9900000e+00,\n",
       "        4.0000000e+00,  4.0100000e+00,  4.0200000e+00,  4.0300000e+00,\n",
       "        4.0400000e+00,  4.0500000e+00,  4.0600000e+00,  4.0700000e+00,\n",
       "        4.0800000e+00,  4.0900000e+00,  4.1000000e+00,  4.1100000e+00,\n",
       "        4.1200000e+00,  4.1300000e+00,  4.1400000e+00,  4.1500000e+00,\n",
       "        4.1600000e+00,  4.1700000e+00,  4.1800000e+00,  4.1900000e+00,\n",
       "        4.2000000e+00,  4.2100000e+00,  4.2200000e+00,  4.2300000e+00,\n",
       "        4.2400000e+00,  4.2500000e+00,  4.2600000e+00,  4.2700000e+00,\n",
       "        4.2800000e+00,  4.2900000e+00,  4.3000000e+00,  4.3100000e+00,\n",
       "        4.3200000e+00,  4.3300000e+00,  4.3400000e+00,  4.3500000e+00,\n",
       "        4.3600000e+00,  4.3700000e+00,  4.3800000e+00,  4.3900000e+00,\n",
       "        4.4000000e+00,  4.4100000e+00,  4.4200000e+00,  4.4300000e+00,\n",
       "        4.4400000e+00,  4.4500000e+00,  4.4600000e+00,  4.4700000e+00,\n",
       "        4.4800000e+00,  4.4900000e+00,  4.5000000e+00,  4.5100000e+00,\n",
       "        4.5200000e+00,  4.5300000e+00,  4.5400000e+00,  4.5500000e+00,\n",
       "        4.5600000e+00,  4.5700000e+00,  4.5800000e+00,  4.5900000e+00,\n",
       "        4.6000000e+00,  4.6100000e+00,  4.6200000e+00,  4.6300000e+00,\n",
       "        4.6400000e+00,  4.6500000e+00,  4.6600000e+00,  4.6700000e+00,\n",
       "        4.6800000e+00,  4.6900000e+00,  4.7000000e+00,  4.7100000e+00,\n",
       "        4.7200000e+00,  4.7300000e+00,  4.7400000e+00,  4.7500000e+00,\n",
       "        4.7600000e+00,  4.7700000e+00,  4.7800000e+00,  4.7900000e+00,\n",
       "        4.8000000e+00,  4.8100000e+00,  4.8200000e+00,  4.8300000e+00,\n",
       "        4.8400000e+00,  4.8500000e+00,  4.8600000e+00,  4.8700000e+00,\n",
       "        4.8800000e+00,  4.8900000e+00,  4.9000000e+00,  4.9100000e+00,\n",
       "        4.9200000e+00,  4.9300000e+00,  4.9400000e+00,  4.9500000e+00,\n",
       "        4.9600000e+00,  4.9700000e+00,  4.9800000e+00,  4.9900000e+00])"
      ]
     },
     "execution_count": 4,
     "metadata": {},
     "output_type": "execute_result"
    }
   ],
   "source": [
    "points = np.arange(-5, 5, 0.01) # 1000 equally spaced points\n",
    "\n",
    "points"
   ]
  },
  {
   "cell_type": "code",
   "execution_count": 5,
   "id": "69d423da-2e3e-4a7b-af81-93a9c5cc8f10",
   "metadata": {},
   "outputs": [],
   "source": [
    "xs,ys = np.meshgrid(points,points)"
   ]
  },
  {
   "cell_type": "code",
   "execution_count": 6,
   "id": "853ffa0a-db23-4cd0-bf95-035de9454f14",
   "metadata": {
    "scrolled": true
   },
   "outputs": [
    {
     "data": {
      "text/plain": [
       "array([[-5.  , -5.  , -5.  , ..., -5.  , -5.  , -5.  ],\n",
       "       [-4.99, -4.99, -4.99, ..., -4.99, -4.99, -4.99],\n",
       "       [-4.98, -4.98, -4.98, ..., -4.98, -4.98, -4.98],\n",
       "       ...,\n",
       "       [ 4.97,  4.97,  4.97, ...,  4.97,  4.97,  4.97],\n",
       "       [ 4.98,  4.98,  4.98, ...,  4.98,  4.98,  4.98],\n",
       "       [ 4.99,  4.99,  4.99, ...,  4.99,  4.99,  4.99]])"
      ]
     },
     "execution_count": 6,
     "metadata": {},
     "output_type": "execute_result"
    }
   ],
   "source": [
    "ys"
   ]
  },
  {
   "cell_type": "code",
   "execution_count": 7,
   "id": "2a791a07-0cff-4ecf-b28e-120482c57eb2",
   "metadata": {},
   "outputs": [],
   "source": [
    "import numpy as np\n",
    "z = np.sqrt(xs**2 + ys**2)"
   ]
  },
  {
   "cell_type": "code",
   "execution_count": 13,
   "id": "71ae3913-21fc-4c8b-8d50-1c251142ea2e",
   "metadata": {},
   "outputs": [
    {
     "data": {
      "text/plain": [
       "Text(0.5, 1.0, 'Image plot of $\\\\sqrt{x^2 + y^2}$ for a grid of values')"
      ]
     },
     "execution_count": 13,
     "metadata": {},
     "output_type": "execute_result"
    },
    {
     "data": {
      "image/png": "[encoded data removed]",
      "text/plain": [
       "<Figure size 640x480 with 2 Axes>"
      ]
     },
     "metadata": {},
     "output_type": "display_data"
    }
   ],
   "source": [
    "import matplotlib.pyplot as plt\n",
    "\n",
    "plt.imshow(z,cmap=plt.cm.gray)\n",
    "\n",
    "plt.colorbar()\n",
    "\n",
    "plt.title(\"Image plot of $\\sqrt{x^2 + y^2}$ for a grid of values\")"
   ]
  },
  {
   "cell_type": "code",
   "execution_count": 15,
   "id": "5ec877d8-5f1f-463e-9535-2daccdd2859f",
   "metadata": {},
   "outputs": [
    {
     "data": {
      "text/plain": [
       "[1.1, 2.2, 1.3, 1.4, 2.5]"
      ]
     },
     "execution_count": 15,
     "metadata": {},
     "output_type": "execute_result"
    }
   ],
   "source": [
    "xarr = np.array([1.1, 1.2, 1.3, 1.4, 1.5])\n",
    "\n",
    "yarr = np.array([2.1, 2.2, 2.3, 2.4, 2.5])\n",
    "\n",
    "cond = np.array([True, False, True, True, False])\n",
    "\n",
    "result = [(x if c else y) for x,y,c in zip(xarr,yarr,cond)]\n",
    "\n",
    "result"
   ]
  },
  {
   "cell_type": "code",
   "execution_count": 16,
   "id": "bf9bfa9c-4218-42d6-9679-7e8382a2e115",
   "metadata": {},
   "outputs": [
    {
     "data": {
      "text/plain": [
       "array([1.1, 2.2, 1.3, 1.4, 2.5])"
      ]
     },
     "execution_count": 16,
     "metadata": {},
     "output_type": "execute_result"
    }
   ],
   "source": [
    "result = np.where(cond,xarr,yarr)\n",
    "\n",
    "result"
   ]
  },
  {
   "cell_type": "code",
   "execution_count": 17,
   "id": "d2b1a291-6d72-4f9f-8649-dbe4a1c74dbf",
   "metadata": {},
   "outputs": [
    {
     "data": {
      "text/plain": [
       "array([[[ 1.66635112e+00, -1.67213595e+00, -2.85159696e+00,\n",
       "          1.95953425e+00],\n",
       "        [-2.82974044e-01, -4.21492385e-01, -6.45534619e-01,\n",
       "         -5.97151410e-01],\n",
       "        [ 3.21368317e-01, -1.68823631e-01, -1.90502499e+00,\n",
       "         -5.80782777e-01],\n",
       "        [-4.15081954e-01,  1.16486897e+00, -2.49944308e-01,\n",
       "          8.27032100e-01]],\n",
       "\n",
       "       [[-2.09792287e+00,  1.70130429e+00,  1.54243851e+00,\n",
       "         -1.01329946e-01],\n",
       "        [-6.31902542e-02, -4.78181616e-02, -5.78287639e-02,\n",
       "         -1.06466593e+00],\n",
       "        [-2.28416765e+00,  1.48093054e+00,  1.70588070e+00,\n",
       "          9.52161045e-01],\n",
       "        [-2.37069065e-01, -5.53717710e-02,  9.92576253e-01,\n",
       "         -6.15888908e-01]],\n",
       "\n",
       "       [[ 5.62264732e-01, -6.89013586e-05,  7.15508481e-02,\n",
       "          1.11786065e-01],\n",
       "        [ 1.75669613e+00,  9.95543712e-02,  1.26476657e+00,\n",
       "          6.30685058e-01],\n",
       "        [ 1.40136885e+00, -4.93847503e-01,  1.14049321e+00,\n",
       "         -1.17382220e+00],\n",
       "        [ 1.81765231e-01, -1.64907539e+00, -4.24007656e-01,\n",
       "         -2.32225329e-01]],\n",
       "\n",
       "       [[ 1.95996466e-01,  1.52712886e+00,  8.41249952e-01,\n",
       "         -9.05243906e-01],\n",
       "        [ 1.96091747e+00,  1.02648687e+00,  8.25488064e-01,\n",
       "          1.26054575e+00],\n",
       "        [ 2.38667472e+00, -9.86257758e-01, -5.21009771e-02,\n",
       "          4.75031241e-01],\n",
       "        [-1.31743112e+00,  1.14438646e+00, -7.68478743e-01,\n",
       "          3.47053983e-02]]])"
      ]
     },
     "execution_count": 17,
     "metadata": {},
     "output_type": "execute_result"
    }
   ],
   "source": [
    "arr = np.random.randn(4, 4, 4)\n",
    "\n",
    "arr"
   ]
  },
  {
   "cell_type": "code",
   "execution_count": 18,
   "id": "1ca301e3-0878-45e3-8fb9-55d67b7ef311",
   "metadata": {},
   "outputs": [
    {
     "data": {
      "text/plain": [
       "array([[[ True, False, False,  True],\n",
       "        [False, False, False, False],\n",
       "        [ True, False, False, False],\n",
       "        [False,  True, False,  True]],\n",
       "\n",
       "       [[False,  True,  True, False],\n",
       "        [False, False, False, False],\n",
       "        [False,  True,  True,  True],\n",
       "        [False, False,  True, False]],\n",
       "\n",
       "       [[ True, False,  True,  True],\n",
       "        [ True,  True,  True,  True],\n",
       "        [ True, False,  True, False],\n",
       "        [ True, False, False, False]],\n",
       "\n",
       "       [[ True,  True,  True, False],\n",
       "        [ True,  True,  True,  True],\n",
       "        [ True, False, False,  True],\n",
       "        [False,  True, False,  True]]])"
      ]
     },
     "execution_count": 18,
     "metadata": {},
     "output_type": "execute_result"
    }
   ],
   "source": [
    "arr > 0"
   ]
  },
  {
   "cell_type": "code",
   "execution_count": 20,
   "id": "799628a6-02cc-4566-ab92-f62c0f95dae2",
   "metadata": {},
   "outputs": [
    {
     "data": {
      "text/plain": [
       "array([[[[ 1.92687455e+00, -4.30458992e-01,  4.54235395e-01,\n",
       "           1.03076246e+00],\n",
       "         [-3.29708566e-01, -6.58832696e-01,  8.56178023e-01,\n",
       "          -5.46889160e-01],\n",
       "         [ 1.87073521e+00, -1.07077881e+00,  1.19227060e+00,\n",
       "           8.39929104e-02],\n",
       "         [-3.88872697e-03, -1.75907583e+00, -4.50382416e-01,\n",
       "           2.01656910e-01]],\n",
       "\n",
       "        [[-1.53923502e+00,  1.40192027e+00,  1.12512901e+00,\n",
       "           9.06477585e-03],\n",
       "         [ 1.97741374e+00,  1.52407394e+00, -1.14676435e+00,\n",
       "           1.09579526e+00],\n",
       "         [ 2.70339349e-01,  5.80455868e-01,  7.22813393e-01,\n",
       "          -5.90245043e-01],\n",
       "         [-3.74693367e-01, -6.22028724e-01,  1.29521973e+00,\n",
       "           1.38998591e-01]],\n",
       "\n",
       "        [[-1.54931948e+00,  8.08545965e-01, -3.35921444e-01,\n",
       "          -7.78115719e-01],\n",
       "         [ 6.87053760e-01, -7.86604598e-01,  2.20119608e-01,\n",
       "          -3.28729089e-01],\n",
       "         [-8.49379391e-01, -1.03326398e+00,  2.82906901e-01,\n",
       "          -3.42236485e-01],\n",
       "         [-7.93574993e-01, -6.76486813e-01,  1.29183249e+00,\n",
       "           1.02052704e+00]],\n",
       "\n",
       "        [[-2.97413627e-01, -5.19769571e-01, -2.19803016e-01,\n",
       "           7.06531989e-01],\n",
       "         [-1.20462129e+00, -8.34608801e-01,  1.01427911e+00,\n",
       "           5.14508470e-01],\n",
       "         [ 8.81089125e-01, -1.03829409e+00, -4.71844396e-01,\n",
       "          -4.77454027e-01],\n",
       "         [-7.01517305e-01, -9.79147098e-01, -1.47602324e+00,\n",
       "          -1.43879991e-01]]],\n",
       "\n",
       "\n",
       "       [[[-1.04626517e+00,  1.25732691e-01,  5.42040923e-01,\n",
       "          -9.14506295e-01],\n",
       "         [ 1.49997438e+00, -9.92306086e-01, -8.59480341e-01,\n",
       "           9.69003407e-02],\n",
       "         [ 6.21235640e-01,  2.23883642e-01, -8.19950108e-01,\n",
       "           7.94498864e-02],\n",
       "         [-1.52951825e+00, -2.42294383e-01,  1.27192767e-01,\n",
       "           5.11086812e-01]],\n",
       "\n",
       "        [[ 4.23161646e-01,  1.34955257e-01, -1.98718436e-01,\n",
       "          -4.37496252e-01],\n",
       "         [-7.73578878e-01, -2.88210916e-01,  6.87278726e-01,\n",
       "          -1.61888919e+00],\n",
       "         [-5.35311733e-02,  1.73691277e-01,  8.26379877e-02,\n",
       "           6.71102482e-01],\n",
       "         [ 2.91695128e-01,  4.97222643e-01,  1.06770187e+00,\n",
       "           2.45080129e+00]],\n",
       "\n",
       "        [[-9.99095653e-01,  1.12187717e+00,  9.46748454e-01,\n",
       "           1.62871705e+00],\n",
       "         [ 1.30855023e-01,  6.27857547e-01, -2.82237902e-01,\n",
       "          -2.50848850e-01],\n",
       "         [ 2.75858781e-02, -4.31185007e-01, -1.70309198e-01,\n",
       "           1.51804057e+00],\n",
       "         [-2.78481661e+00,  2.18348811e-02,  1.45604645e-01,\n",
       "          -8.29228252e-01]],\n",
       "\n",
       "        [[ 6.54857420e-01,  2.72861523e+00, -2.17388208e+00,\n",
       "          -2.22583155e-01],\n",
       "         [ 1.29670701e-01, -5.26284685e-01, -5.01298204e-01,\n",
       "          -9.39007826e-01],\n",
       "         [-7.40967143e-01, -8.41855406e-01, -2.25423680e-01,\n",
       "          -1.68454420e-01],\n",
       "         [-4.74400190e-01, -1.14594368e+00,  1.92748685e+00,\n",
       "           2.08799312e+00]]],\n",
       "\n",
       "\n",
       "       [[[-5.54323311e-01, -2.42566659e-02, -5.17119029e-01,\n",
       "          -2.60552156e-01],\n",
       "         [-1.06069753e+00,  8.20305297e-02, -4.36217982e-02,\n",
       "           1.08990898e-01],\n",
       "         [-4.73401180e-01, -1.42694069e+00, -5.75280610e-01,\n",
       "          -2.39227038e-01],\n",
       "         [-2.76818460e-01,  3.01832964e-01, -1.32752677e+00,\n",
       "           1.09813549e+00]],\n",
       "\n",
       "        [[ 1.23364546e+00,  4.01273559e-01, -6.69601036e-01,\n",
       "           3.51276290e-01],\n",
       "         [-1.19457898e+00, -7.44650434e-01,  1.18035389e-01,\n",
       "           6.54663516e-02],\n",
       "         [ 4.13334971e-01, -7.73567956e-01,  2.99163605e-03,\n",
       "           1.56041571e+00],\n",
       "         [-5.92099004e-01, -2.50923364e+00, -9.97818152e-01,\n",
       "          -7.48003370e-01]],\n",
       "\n",
       "        [[ 1.03194610e-01,  4.74153685e-01,  1.24402517e+00,\n",
       "           1.00110908e+00],\n",
       "         [ 9.89328694e-01,  1.79467416e-01,  5.38202760e-02,\n",
       "          -1.39845704e+00],\n",
       "         [-8.26283096e-01,  2.32740104e-01,  9.63150649e-01,\n",
       "          -3.41456691e-01],\n",
       "         [-2.01079241e+00, -1.83587853e-01,  1.65192895e+00,\n",
       "           4.42349111e-01]],\n",
       "\n",
       "        [[ 4.42267958e-01, -5.51536376e-01,  4.65548099e-01,\n",
       "          -1.04985334e+00],\n",
       "         [-3.17759773e-01,  3.21520977e-01, -1.61391457e-01,\n",
       "          -1.36941835e-02],\n",
       "         [ 1.22601089e+00,  7.10034164e-02,  2.49862151e-01,\n",
       "          -6.42683427e-01],\n",
       "         [ 1.05559068e+00,  4.26884559e-01,  8.70176232e-01,\n",
       "          -3.03594703e+00]]],\n",
       "\n",
       "\n",
       "       [[[ 9.98520245e-01,  1.94117511e+00,  5.59617306e-01,\n",
       "          -7.89532311e-01],\n",
       "         [-1.33805619e+00, -1.13708959e-01,  9.66747241e-02,\n",
       "           6.48355401e-01],\n",
       "         [-8.80926259e-01,  4.52569913e-01,  1.53508450e+00,\n",
       "           2.45322765e-01],\n",
       "         [-1.35218925e+00,  1.34561722e-01,  1.08126874e+00,\n",
       "           1.23366350e+00]],\n",
       "\n",
       "        [[ 1.36713276e+00,  3.73526534e-01,  5.67056374e-01,\n",
       "          -1.18106373e+00],\n",
       "         [-1.95324856e+00,  1.54914661e+00, -2.09321486e+00,\n",
       "          -1.04325018e+00],\n",
       "         [-1.53731486e+00,  8.31285087e-01, -1.01668631e+00,\n",
       "          -1.73593884e+00],\n",
       "         [ 8.26250791e-01, -7.86774414e-01,  4.26361509e-01,\n",
       "          -1.24537223e+00]],\n",
       "\n",
       "        [[ 1.66008249e-01,  8.76483972e-02, -2.02172021e+00,\n",
       "          -1.85057679e+00],\n",
       "         [ 1.03620841e-01,  4.03959864e-01,  9.82335850e-01,\n",
       "           5.73860275e-01],\n",
       "         [ 1.70070035e+00,  2.84194617e-01, -1.88231814e-01,\n",
       "          -3.99888564e-01],\n",
       "         [ 3.41481199e-01, -1.58559157e+00,  1.07239034e+00,\n",
       "           1.18385794e+00]],\n",
       "\n",
       "        [[ 6.88815013e-01, -1.38896899e+00, -1.22443272e+00,\n",
       "           3.92712980e-01],\n",
       "         [-3.69618503e-01, -8.12341364e-01,  2.74743496e-01,\n",
       "          -3.67383247e-01],\n",
       "         [-8.35756143e-01, -7.36950465e-01,  2.94547620e-01,\n",
       "          -4.16906228e-01],\n",
       "         [-2.92723952e-01,  6.13242858e-01,  2.10320434e-01,\n",
       "          -6.08848298e-01]]]])"
      ]
     },
     "execution_count": 20,
     "metadata": {},
     "output_type": "execute_result"
    }
   ],
   "source": [
    "arr = np.random.randn(4,4,4,4)\n",
    "\n",
    "arr"
   ]
  },
  {
   "cell_type": "code",
   "execution_count": 21,
   "id": "7eb35edd-5fda-425f-8290-40fed97b5eb0",
   "metadata": {},
   "outputs": [
    {
     "data": {
      "text/plain": [
       "array([[[[ True, False,  True,  True],\n",
       "         [False, False,  True, False],\n",
       "         [ True, False,  True,  True],\n",
       "         [False, False, False,  True]],\n",
       "\n",
       "        [[False,  True,  True,  True],\n",
       "         [ True,  True, False,  True],\n",
       "         [ True,  True,  True, False],\n",
       "         [False, False,  True,  True]],\n",
       "\n",
       "        [[False,  True, False, False],\n",
       "         [ True, False,  True, False],\n",
       "         [False, False,  True, False],\n",
       "         [False, False,  True,  True]],\n",
       "\n",
       "        [[False, False, False,  True],\n",
       "         [False, False,  True,  True],\n",
       "         [ True, False, False, False],\n",
       "         [False, False, False, False]]],\n",
       "\n",
       "\n",
       "       [[[False,  True,  True, False],\n",
       "         [ True, False, False,  True],\n",
       "         [ True,  True, False,  True],\n",
       "         [False, False,  True,  True]],\n",
       "\n",
       "        [[ True,  True, False, False],\n",
       "         [False, False,  True, False],\n",
       "         [False,  True,  True,  True],\n",
       "         [ True,  True,  True,  True]],\n",
       "\n",
       "        [[False,  True,  True,  True],\n",
       "         [ True,  True, False, False],\n",
       "         [ True, False, False,  True],\n",
       "         [False,  True,  True, False]],\n",
       "\n",
       "        [[ True,  True, False, False],\n",
       "         [ True, False, False, False],\n",
       "         [False, False, False, False],\n",
       "         [False, False,  True,  True]]],\n",
       "\n",
       "\n",
       "       [[[False, False, False, False],\n",
       "         [False,  True, False,  True],\n",
       "         [False, False, False, False],\n",
       "         [False,  True, False,  True]],\n",
       "\n",
       "        [[ True,  True, False,  True],\n",
       "         [False, False,  True,  True],\n",
       "         [ True, False,  True,  True],\n",
       "         [False, False, False, False]],\n",
       "\n",
       "        [[ True,  True,  True,  True],\n",
       "         [ True,  True,  True, False],\n",
       "         [False,  True,  True, False],\n",
       "         [False, False,  True,  True]],\n",
       "\n",
       "        [[ True, False,  True, False],\n",
       "         [False,  True, False, False],\n",
       "         [ True,  True,  True, False],\n",
       "         [ True,  True,  True, False]]],\n",
       "\n",
       "\n",
       "       [[[ True,  True,  True, False],\n",
       "         [False, False,  True,  True],\n",
       "         [False,  True,  True,  True],\n",
       "         [False,  True,  True,  True]],\n",
       "\n",
       "        [[ True,  True,  True, False],\n",
       "         [False,  True, False, False],\n",
       "         [False,  True, False, False],\n",
       "         [ True, False,  True, False]],\n",
       "\n",
       "        [[ True,  True, False, False],\n",
       "         [ True,  True,  True,  True],\n",
       "         [ True,  True, False, False],\n",
       "         [ True, False,  True,  True]],\n",
       "\n",
       "        [[ True, False, False,  True],\n",
       "         [False, False,  True, False],\n",
       "         [False, False,  True, False],\n",
       "         [False,  True,  True, False]]]])"
      ]
     },
     "execution_count": 21,
     "metadata": {},
     "output_type": "execute_result"
    }
   ],
   "source": [
    "arr > 0"
   ]
  },
  {
   "cell_type": "code",
   "execution_count": 22,
   "id": "1eae33a5-846d-492d-b8aa-077d8217fe43",
   "metadata": {},
   "outputs": [
    {
     "data": {
      "text/plain": [
       "array([[[[ 2, -2,  2,  2],\n",
       "         [-2, -2,  2, -2],\n",
       "         [ 2, -2,  2,  2],\n",
       "         [-2, -2, -2,  2]],\n",
       "\n",
       "        [[-2,  2,  2,  2],\n",
       "         [ 2,  2, -2,  2],\n",
       "         [ 2,  2,  2, -2],\n",
       "         [-2, -2,  2,  2]],\n",
       "\n",
       "        [[-2,  2, -2, -2],\n",
       "         [ 2, -2,  2, -2],\n",
       "         [-2, -2,  2, -2],\n",
       "         [-2, -2,  2,  2]],\n",
       "\n",
       "        [[-2, -2, -2,  2],\n",
       "         [-2, -2,  2,  2],\n",
       "         [ 2, -2, -2, -2],\n",
       "         [-2, -2, -2, -2]]],\n",
       "\n",
       "\n",
       "       [[[-2,  2,  2, -2],\n",
       "         [ 2, -2, -2,  2],\n",
       "         [ 2,  2, -2,  2],\n",
       "         [-2, -2,  2,  2]],\n",
       "\n",
       "        [[ 2,  2, -2, -2],\n",
       "         [-2, -2,  2, -2],\n",
       "         [-2,  2,  2,  2],\n",
       "         [ 2,  2,  2,  2]],\n",
       "\n",
       "        [[-2,  2,  2,  2],\n",
       "         [ 2,  2, -2, -2],\n",
       "         [ 2, -2, -2,  2],\n",
       "         [-2,  2,  2, -2]],\n",
       "\n",
       "        [[ 2,  2, -2, -2],\n",
       "         [ 2, -2, -2, -2],\n",
       "         [-2, -2, -2, -2],\n",
       "         [-2, -2,  2,  2]]],\n",
       "\n",
       "\n",
       "       [[[-2, -2, -2, -2],\n",
       "         [-2,  2, -2,  2],\n",
       "         [-2, -2, -2, -2],\n",
       "         [-2,  2, -2,  2]],\n",
       "\n",
       "        [[ 2,  2, -2,  2],\n",
       "         [-2, -2,  2,  2],\n",
       "         [ 2, -2,  2,  2],\n",
       "         [-2, -2, -2, -2]],\n",
       "\n",
       "        [[ 2,  2,  2,  2],\n",
       "         [ 2,  2,  2, -2],\n",
       "         [-2,  2,  2, -2],\n",
       "         [-2, -2,  2,  2]],\n",
       "\n",
       "        [[ 2, -2,  2, -2],\n",
       "         [-2,  2, -2, -2],\n",
       "         [ 2,  2,  2, -2],\n",
       "         [ 2,  2,  2, -2]]],\n",
       "\n",
       "\n",
       "       [[[ 2,  2,  2, -2],\n",
       "         [-2, -2,  2,  2],\n",
       "         [-2,  2,  2,  2],\n",
       "         [-2,  2,  2,  2]],\n",
       "\n",
       "        [[ 2,  2,  2, -2],\n",
       "         [-2,  2, -2, -2],\n",
       "         [-2,  2, -2, -2],\n",
       "         [ 2, -2,  2, -2]],\n",
       "\n",
       "        [[ 2,  2, -2, -2],\n",
       "         [ 2,  2,  2,  2],\n",
       "         [ 2,  2, -2, -2],\n",
       "         [ 2, -2,  2,  2]],\n",
       "\n",
       "        [[ 2, -2, -2,  2],\n",
       "         [-2, -2,  2, -2],\n",
       "         [-2, -2,  2, -2],\n",
       "         [-2,  2,  2, -2]]]])"
      ]
     },
     "execution_count": 22,
     "metadata": {},
     "output_type": "execute_result"
    }
   ],
   "source": [
    "np.where(arr >0,2,-2)"
   ]
  },
  {
   "cell_type": "code",
   "execution_count": 23,
   "id": "bfacbefb-58d0-4993-a3ec-84e3dc127118",
   "metadata": {},
   "outputs": [
    {
     "data": {
      "text/plain": [
       "array([[[[-2.        , -0.43045899, -2.        , -2.        ],\n",
       "         [-0.32970857, -0.6588327 , -2.        , -0.54688916],\n",
       "         [-2.        , -1.07077881, -2.        , -2.        ],\n",
       "         [-0.00388873, -1.75907583, -0.45038242, -2.        ]],\n",
       "\n",
       "        [[-1.53923502, -2.        , -2.        , -2.        ],\n",
       "         [-2.        , -2.        , -1.14676435, -2.        ],\n",
       "         [-2.        , -2.        , -2.        , -0.59024504],\n",
       "         [-0.37469337, -0.62202872, -2.        , -2.        ]],\n",
       "\n",
       "        [[-1.54931948, -2.        , -0.33592144, -0.77811572],\n",
       "         [-2.        , -0.7866046 , -2.        , -0.32872909],\n",
       "         [-0.84937939, -1.03326398, -2.        , -0.34223648],\n",
       "         [-0.79357499, -0.67648681, -2.        , -2.        ]],\n",
       "\n",
       "        [[-0.29741363, -0.51976957, -0.21980302, -2.        ],\n",
       "         [-1.20462129, -0.8346088 , -2.        , -2.        ],\n",
       "         [-2.        , -1.03829409, -0.4718444 , -0.47745403],\n",
       "         [-0.7015173 , -0.9791471 , -1.47602324, -0.14387999]]],\n",
       "\n",
       "\n",
       "       [[[-1.04626517, -2.        , -2.        , -0.91450629],\n",
       "         [-2.        , -0.99230609, -0.85948034, -2.        ],\n",
       "         [-2.        , -2.        , -0.81995011, -2.        ],\n",
       "         [-1.52951825, -0.24229438, -2.        , -2.        ]],\n",
       "\n",
       "        [[-2.        , -2.        , -0.19871844, -0.43749625],\n",
       "         [-0.77357888, -0.28821092, -2.        , -1.61888919],\n",
       "         [-0.05353117, -2.        , -2.        , -2.        ],\n",
       "         [-2.        , -2.        , -2.        , -2.        ]],\n",
       "\n",
       "        [[-0.99909565, -2.        , -2.        , -2.        ],\n",
       "         [-2.        , -2.        , -0.2822379 , -0.25084885],\n",
       "         [-2.        , -0.43118501, -0.1703092 , -2.        ],\n",
       "         [-2.78481661, -2.        , -2.        , -0.82922825]],\n",
       "\n",
       "        [[-2.        , -2.        , -2.17388208, -0.22258315],\n",
       "         [-2.        , -0.52628468, -0.5012982 , -0.93900783],\n",
       "         [-0.74096714, -0.84185541, -0.22542368, -0.16845442],\n",
       "         [-0.47440019, -1.14594368, -2.        , -2.        ]]],\n",
       "\n",
       "\n",
       "       [[[-0.55432331, -0.02425667, -0.51711903, -0.26055216],\n",
       "         [-1.06069753, -2.        , -0.0436218 , -2.        ],\n",
       "         [-0.47340118, -1.42694069, -0.57528061, -0.23922704],\n",
       "         [-0.27681846, -2.        , -1.32752677, -2.        ]],\n",
       "\n",
       "        [[-2.        , -2.        , -0.66960104, -2.        ],\n",
       "         [-1.19457898, -0.74465043, -2.        , -2.        ],\n",
       "         [-2.        , -0.77356796, -2.        , -2.        ],\n",
       "         [-0.592099  , -2.50923364, -0.99781815, -0.74800337]],\n",
       "\n",
       "        [[-2.        , -2.        , -2.        , -2.        ],\n",
       "         [-2.        , -2.        , -2.        , -1.39845704],\n",
       "         [-0.8262831 , -2.        , -2.        , -0.34145669],\n",
       "         [-2.01079241, -0.18358785, -2.        , -2.        ]],\n",
       "\n",
       "        [[-2.        , -0.55153638, -2.        , -1.04985334],\n",
       "         [-0.31775977, -2.        , -0.16139146, -0.01369418],\n",
       "         [-2.        , -2.        , -2.        , -0.64268343],\n",
       "         [-2.        , -2.        , -2.        , -3.03594703]]],\n",
       "\n",
       "\n",
       "       [[[-2.        , -2.        , -2.        , -0.78953231],\n",
       "         [-1.33805619, -0.11370896, -2.        , -2.        ],\n",
       "         [-0.88092626, -2.        , -2.        , -2.        ],\n",
       "         [-1.35218925, -2.        , -2.        , -2.        ]],\n",
       "\n",
       "        [[-2.        , -2.        , -2.        , -1.18106373],\n",
       "         [-1.95324856, -2.        , -2.09321486, -1.04325018],\n",
       "         [-1.53731486, -2.        , -1.01668631, -1.73593884],\n",
       "         [-2.        , -0.78677441, -2.        , -1.24537223]],\n",
       "\n",
       "        [[-2.        , -2.        , -2.02172021, -1.85057679],\n",
       "         [-2.        , -2.        , -2.        , -2.        ],\n",
       "         [-2.        , -2.        , -0.18823181, -0.39988856],\n",
       "         [-2.        , -1.58559157, -2.        , -2.        ]],\n",
       "\n",
       "        [[-2.        , -1.38896899, -1.22443272, -2.        ],\n",
       "         [-0.3696185 , -0.81234136, -2.        , -0.36738325],\n",
       "         [-0.83575614, -0.73695046, -2.        , -0.41690623],\n",
       "         [-0.29272395, -2.        , -2.        , -0.6088483 ]]]])"
      ]
     },
     "execution_count": 23,
     "metadata": {},
     "output_type": "execute_result"
    }
   ],
   "source": [
    "np.where(arr < 0,arr,-2)"
   ]
  },
  {
   "cell_type": "code",
   "execution_count": 24,
   "id": "b7d63544-d81c-457e-bcd3-fd46eb65044e",
   "metadata": {},
   "outputs": [
    {
     "data": {
      "text/plain": [
       "array([[[[ 1.92687455e+00, -4.30458992e-01,  4.54235395e-01,\n",
       "           1.03076246e+00],\n",
       "         [-3.29708566e-01, -6.58832696e-01,  8.56178023e-01,\n",
       "          -5.46889160e-01],\n",
       "         [ 1.87073521e+00, -1.07077881e+00,  1.19227060e+00,\n",
       "           8.39929104e-02],\n",
       "         [-3.88872697e-03, -1.75907583e+00, -4.50382416e-01,\n",
       "           2.01656910e-01]],\n",
       "\n",
       "        [[-1.53923502e+00,  1.40192027e+00,  1.12512901e+00,\n",
       "           9.06477585e-03],\n",
       "         [ 1.97741374e+00,  1.52407394e+00, -1.14676435e+00,\n",
       "           1.09579526e+00],\n",
       "         [ 2.70339349e-01,  5.80455868e-01,  7.22813393e-01,\n",
       "          -5.90245043e-01],\n",
       "         [-3.74693367e-01, -6.22028724e-01,  1.29521973e+00,\n",
       "           1.38998591e-01]],\n",
       "\n",
       "        [[-1.54931948e+00,  8.08545965e-01, -3.35921444e-01,\n",
       "          -7.78115719e-01],\n",
       "         [ 6.87053760e-01, -7.86604598e-01,  2.20119608e-01,\n",
       "          -3.28729089e-01],\n",
       "         [-8.49379391e-01, -1.03326398e+00,  2.82906901e-01,\n",
       "          -3.42236485e-01],\n",
       "         [-7.93574993e-01, -6.76486813e-01,  1.29183249e+00,\n",
       "           1.02052704e+00]],\n",
       "\n",
       "        [[-2.97413627e-01, -5.19769571e-01, -2.19803016e-01,\n",
       "           7.06531989e-01],\n",
       "         [-1.20462129e+00, -8.34608801e-01,  1.01427911e+00,\n",
       "           5.14508470e-01],\n",
       "         [ 8.81089125e-01, -1.03829409e+00, -4.71844396e-01,\n",
       "          -4.77454027e-01],\n",
       "         [-7.01517305e-01, -9.79147098e-01, -1.47602324e+00,\n",
       "          -1.43879991e-01]]],\n",
       "\n",
       "\n",
       "       [[[-1.04626517e+00,  1.25732691e-01,  5.42040923e-01,\n",
       "          -9.14506295e-01],\n",
       "         [ 1.49997438e+00, -9.92306086e-01, -8.59480341e-01,\n",
       "           9.69003407e-02],\n",
       "         [ 6.21235640e-01,  2.23883642e-01, -8.19950108e-01,\n",
       "           7.94498864e-02],\n",
       "         [-1.52951825e+00, -2.42294383e-01,  1.27192767e-01,\n",
       "           5.11086812e-01]],\n",
       "\n",
       "        [[ 4.23161646e-01,  1.34955257e-01, -1.98718436e-01,\n",
       "          -4.37496252e-01],\n",
       "         [-7.73578878e-01, -2.88210916e-01,  6.87278726e-01,\n",
       "          -1.61888919e+00],\n",
       "         [-5.35311733e-02,  1.73691277e-01,  8.26379877e-02,\n",
       "           6.71102482e-01],\n",
       "         [ 2.91695128e-01,  4.97222643e-01,  1.06770187e+00,\n",
       "           2.45080129e+00]],\n",
       "\n",
       "        [[-9.99095653e-01,  1.12187717e+00,  9.46748454e-01,\n",
       "           1.62871705e+00],\n",
       "         [ 1.30855023e-01,  6.27857547e-01, -2.82237902e-01,\n",
       "          -2.50848850e-01],\n",
       "         [ 2.75858781e-02, -4.31185007e-01, -1.70309198e-01,\n",
       "           1.51804057e+00],\n",
       "         [-2.78481661e+00,  2.18348811e-02,  1.45604645e-01,\n",
       "          -8.29228252e-01]],\n",
       "\n",
       "        [[ 6.54857420e-01,  2.72861523e+00, -2.17388208e+00,\n",
       "          -2.22583155e-01],\n",
       "         [ 1.29670701e-01, -5.26284685e-01, -5.01298204e-01,\n",
       "          -9.39007826e-01],\n",
       "         [-7.40967143e-01, -8.41855406e-01, -2.25423680e-01,\n",
       "          -1.68454420e-01],\n",
       "         [-4.74400190e-01, -1.14594368e+00,  1.92748685e+00,\n",
       "           2.08799312e+00]]],\n",
       "\n",
       "\n",
       "       [[[-5.54323311e-01, -2.42566659e-02, -5.17119029e-01,\n",
       "          -2.60552156e-01],\n",
       "         [-1.06069753e+00,  8.20305297e-02, -4.36217982e-02,\n",
       "           1.08990898e-01],\n",
       "         [-4.73401180e-01, -1.42694069e+00, -5.75280610e-01,\n",
       "          -2.39227038e-01],\n",
       "         [-2.76818460e-01,  3.01832964e-01, -1.32752677e+00,\n",
       "           1.09813549e+00]],\n",
       "\n",
       "        [[ 1.23364546e+00,  4.01273559e-01, -6.69601036e-01,\n",
       "           3.51276290e-01],\n",
       "         [-1.19457898e+00, -7.44650434e-01,  1.18035389e-01,\n",
       "           6.54663516e-02],\n",
       "         [ 4.13334971e-01, -7.73567956e-01,  2.99163605e-03,\n",
       "           1.56041571e+00],\n",
       "         [-5.92099004e-01, -2.50923364e+00, -9.97818152e-01,\n",
       "          -7.48003370e-01]],\n",
       "\n",
       "        [[ 1.03194610e-01,  4.74153685e-01,  1.24402517e+00,\n",
       "           1.00110908e+00],\n",
       "         [ 9.89328694e-01,  1.79467416e-01,  5.38202760e-02,\n",
       "          -1.39845704e+00],\n",
       "         [-8.26283096e-01,  2.32740104e-01,  9.63150649e-01,\n",
       "          -3.41456691e-01],\n",
       "         [-2.01079241e+00, -1.83587853e-01,  1.65192895e+00,\n",
       "           4.42349111e-01]],\n",
       "\n",
       "        [[ 4.42267958e-01, -5.51536376e-01,  4.65548099e-01,\n",
       "          -1.04985334e+00],\n",
       "         [-3.17759773e-01,  3.21520977e-01, -1.61391457e-01,\n",
       "          -1.36941835e-02],\n",
       "         [ 1.22601089e+00,  7.10034164e-02,  2.49862151e-01,\n",
       "          -6.42683427e-01],\n",
       "         [ 1.05559068e+00,  4.26884559e-01,  8.70176232e-01,\n",
       "          -3.03594703e+00]]],\n",
       "\n",
       "\n",
       "       [[[ 9.98520245e-01,  1.94117511e+00,  5.59617306e-01,\n",
       "          -7.89532311e-01],\n",
       "         [-1.33805619e+00, -1.13708959e-01,  9.66747241e-02,\n",
       "           6.48355401e-01],\n",
       "         [-8.80926259e-01,  4.52569913e-01,  1.53508450e+00,\n",
       "           2.45322765e-01],\n",
       "         [-1.35218925e+00,  1.34561722e-01,  1.08126874e+00,\n",
       "           1.23366350e+00]],\n",
       "\n",
       "        [[ 1.36713276e+00,  3.73526534e-01,  5.67056374e-01,\n",
       "          -1.18106373e+00],\n",
       "         [-1.95324856e+00,  1.54914661e+00, -2.09321486e+00,\n",
       "          -1.04325018e+00],\n",
       "         [-1.53731486e+00,  8.31285087e-01, -1.01668631e+00,\n",
       "          -1.73593884e+00],\n",
       "         [ 8.26250791e-01, -7.86774414e-01,  4.26361509e-01,\n",
       "          -1.24537223e+00]],\n",
       "\n",
       "        [[ 1.66008249e-01,  8.76483972e-02, -2.02172021e+00,\n",
       "          -1.85057679e+00],\n",
       "         [ 1.03620841e-01,  4.03959864e-01,  9.82335850e-01,\n",
       "           5.73860275e-01],\n",
       "         [ 1.70070035e+00,  2.84194617e-01, -1.88231814e-01,\n",
       "          -3.99888564e-01],\n",
       "         [ 3.41481199e-01, -1.58559157e+00,  1.07239034e+00,\n",
       "           1.18385794e+00]],\n",
       "\n",
       "        [[ 6.88815013e-01, -1.38896899e+00, -1.22443272e+00,\n",
       "           3.92712980e-01],\n",
       "         [-3.69618503e-01, -8.12341364e-01,  2.74743496e-01,\n",
       "          -3.67383247e-01],\n",
       "         [-8.35756143e-01, -7.36950465e-01,  2.94547620e-01,\n",
       "          -4.16906228e-01],\n",
       "         [-2.92723952e-01,  6.13242858e-01,  2.10320434e-01,\n",
       "          -6.08848298e-01]]]])"
      ]
     },
     "execution_count": 24,
     "metadata": {},
     "output_type": "execute_result"
    }
   ],
   "source": [
    "arr"
   ]
  },
  {
   "cell_type": "code",
   "execution_count": 27,
   "id": "cd5e9b0c-618b-448c-a66e-d88c626541dd",
   "metadata": {},
   "outputs": [
    {
     "data": {
      "text/plain": [
       "array([[[[ 2.        , -0.43045899,  2.        ,  2.        ],\n",
       "         [-0.32970857, -0.6588327 ,  2.        , -0.54688916],\n",
       "         [ 2.        , -1.07077881,  2.        ,  2.        ],\n",
       "         [-0.00388873, -1.75907583, -0.45038242,  2.        ]],\n",
       "\n",
       "        [[-1.53923502,  2.        ,  2.        ,  2.        ],\n",
       "         [ 2.        ,  2.        , -1.14676435,  2.        ],\n",
       "         [ 2.        ,  2.        ,  2.        , -0.59024504],\n",
       "         [-0.37469337, -0.62202872,  2.        ,  2.        ]],\n",
       "\n",
       "        [[-1.54931948,  2.        , -0.33592144, -0.77811572],\n",
       "         [ 2.        , -0.7866046 ,  2.        , -0.32872909],\n",
       "         [-0.84937939, -1.03326398,  2.        , -0.34223648],\n",
       "         [-0.79357499, -0.67648681,  2.        ,  2.        ]],\n",
       "\n",
       "        [[-0.29741363, -0.51976957, -0.21980302,  2.        ],\n",
       "         [-1.20462129, -0.8346088 ,  2.        ,  2.        ],\n",
       "         [ 2.        , -1.03829409, -0.4718444 , -0.47745403],\n",
       "         [-0.7015173 , -0.9791471 , -1.47602324, -0.14387999]]],\n",
       "\n",
       "\n",
       "       [[[-1.04626517,  2.        ,  2.        , -0.91450629],\n",
       "         [ 2.        , -0.99230609, -0.85948034,  2.        ],\n",
       "         [ 2.        ,  2.        , -0.81995011,  2.        ],\n",
       "         [-1.52951825, -0.24229438,  2.        ,  2.        ]],\n",
       "\n",
       "        [[ 2.        ,  2.        , -0.19871844, -0.43749625],\n",
       "         [-0.77357888, -0.28821092,  2.        , -1.61888919],\n",
       "         [-0.05353117,  2.        ,  2.        ,  2.        ],\n",
       "         [ 2.        ,  2.        ,  2.        ,  2.        ]],\n",
       "\n",
       "        [[-0.99909565,  2.        ,  2.        ,  2.        ],\n",
       "         [ 2.        ,  2.        , -0.2822379 , -0.25084885],\n",
       "         [ 2.        , -0.43118501, -0.1703092 ,  2.        ],\n",
       "         [-2.78481661,  2.        ,  2.        , -0.82922825]],\n",
       "\n",
       "        [[ 2.        ,  2.        , -2.17388208, -0.22258315],\n",
       "         [ 2.        , -0.52628468, -0.5012982 , -0.93900783],\n",
       "         [-0.74096714, -0.84185541, -0.22542368, -0.16845442],\n",
       "         [-0.47440019, -1.14594368,  2.        ,  2.        ]]],\n",
       "\n",
       "\n",
       "       [[[-0.55432331, -0.02425667, -0.51711903, -0.26055216],\n",
       "         [-1.06069753,  2.        , -0.0436218 ,  2.        ],\n",
       "         [-0.47340118, -1.42694069, -0.57528061, -0.23922704],\n",
       "         [-0.27681846,  2.        , -1.32752677,  2.        ]],\n",
       "\n",
       "        [[ 2.        ,  2.        , -0.66960104,  2.        ],\n",
       "         [-1.19457898, -0.74465043,  2.        ,  2.        ],\n",
       "         [ 2.        , -0.77356796,  2.        ,  2.        ],\n",
       "         [-0.592099  , -2.50923364, -0.99781815, -0.74800337]],\n",
       "\n",
       "        [[ 2.        ,  2.        ,  2.        ,  2.        ],\n",
       "         [ 2.        ,  2.        ,  2.        , -1.39845704],\n",
       "         [-0.8262831 ,  2.        ,  2.        , -0.34145669],\n",
       "         [-2.01079241, -0.18358785,  2.        ,  2.        ]],\n",
       "\n",
       "        [[ 2.        , -0.55153638,  2.        , -1.04985334],\n",
       "         [-0.31775977,  2.        , -0.16139146, -0.01369418],\n",
       "         [ 2.        ,  2.        ,  2.        , -0.64268343],\n",
       "         [ 2.        ,  2.        ,  2.        , -3.03594703]]],\n",
       "\n",
       "\n",
       "       [[[ 2.        ,  2.        ,  2.        , -0.78953231],\n",
       "         [-1.33805619, -0.11370896,  2.        ,  2.        ],\n",
       "         [-0.88092626,  2.        ,  2.        ,  2.        ],\n",
       "         [-1.35218925,  2.        ,  2.        ,  2.        ]],\n",
       "\n",
       "        [[ 2.        ,  2.        ,  2.        , -1.18106373],\n",
       "         [-1.95324856,  2.        , -2.09321486, -1.04325018],\n",
       "         [-1.53731486,  2.        , -1.01668631, -1.73593884],\n",
       "         [ 2.        , -0.78677441,  2.        , -1.24537223]],\n",
       "\n",
       "        [[ 2.        ,  2.        , -2.02172021, -1.85057679],\n",
       "         [ 2.        ,  2.        ,  2.        ,  2.        ],\n",
       "         [ 2.        ,  2.        , -0.18823181, -0.39988856],\n",
       "         [ 2.        , -1.58559157,  2.        ,  2.        ]],\n",
       "\n",
       "        [[ 2.        , -1.38896899, -1.22443272,  2.        ],\n",
       "         [-0.3696185 , -0.81234136,  2.        , -0.36738325],\n",
       "         [-0.83575614, -0.73695046,  2.        , -0.41690623],\n",
       "         [-0.29272395,  2.        ,  2.        , -0.6088483 ]]]])"
      ]
     },
     "execution_count": 27,
     "metadata": {},
     "output_type": "execute_result"
    }
   ],
   "source": [
    "np.where(arr > 0, 2, arr)"
   ]
  },
  {
   "cell_type": "code",
   "execution_count": 28,
   "id": "998a4784-789e-4baf-81e4-bde3974d3c05",
   "metadata": {},
   "outputs": [
    {
     "data": {
      "text/plain": [
       "array([[[[ 1.92687455, -2.        ,  0.4542354 ,  1.03076246],\n",
       "         [-2.        , -2.        ,  0.85617802, -2.        ],\n",
       "         [ 1.87073521, -2.        ,  1.1922706 ,  0.08399291],\n",
       "         [-2.        , -2.        , -2.        ,  0.20165691]],\n",
       "\n",
       "        [[-2.        ,  1.40192027,  1.12512901,  0.00906478],\n",
       "         [ 1.97741374,  1.52407394, -2.        ,  1.09579526],\n",
       "         [ 0.27033935,  0.58045587,  0.72281339, -2.        ],\n",
       "         [-2.        , -2.        ,  1.29521973,  0.13899859]],\n",
       "\n",
       "        [[-2.        ,  0.80854597, -2.        , -2.        ],\n",
       "         [ 0.68705376, -2.        ,  0.22011961, -2.        ],\n",
       "         [-2.        , -2.        ,  0.2829069 , -2.        ],\n",
       "         [-2.        , -2.        ,  1.29183249,  1.02052704]],\n",
       "\n",
       "        [[-2.        , -2.        , -2.        ,  0.70653199],\n",
       "         [-2.        , -2.        ,  1.01427911,  0.51450847],\n",
       "         [ 0.88108912, -2.        , -2.        , -2.        ],\n",
       "         [-2.        , -2.        , -2.        , -2.        ]]],\n",
       "\n",
       "\n",
       "       [[[-2.        ,  0.12573269,  0.54204092, -2.        ],\n",
       "         [ 1.49997438, -2.        , -2.        ,  0.09690034],\n",
       "         [ 0.62123564,  0.22388364, -2.        ,  0.07944989],\n",
       "         [-2.        , -2.        ,  0.12719277,  0.51108681]],\n",
       "\n",
       "        [[ 0.42316165,  0.13495526, -2.        , -2.        ],\n",
       "         [-2.        , -2.        ,  0.68727873, -2.        ],\n",
       "         [-2.        ,  0.17369128,  0.08263799,  0.67110248],\n",
       "         [ 0.29169513,  0.49722264,  1.06770187,  2.45080129]],\n",
       "\n",
       "        [[-2.        ,  1.12187717,  0.94674845,  1.62871705],\n",
       "         [ 0.13085502,  0.62785755, -2.        , -2.        ],\n",
       "         [ 0.02758588, -2.        , -2.        ,  1.51804057],\n",
       "         [-2.        ,  0.02183488,  0.14560465, -2.        ]],\n",
       "\n",
       "        [[ 0.65485742,  2.72861523, -2.        , -2.        ],\n",
       "         [ 0.1296707 , -2.        , -2.        , -2.        ],\n",
       "         [-2.        , -2.        , -2.        , -2.        ],\n",
       "         [-2.        , -2.        ,  1.92748685,  2.08799312]]],\n",
       "\n",
       "\n",
       "       [[[-2.        , -2.        , -2.        , -2.        ],\n",
       "         [-2.        ,  0.08203053, -2.        ,  0.1089909 ],\n",
       "         [-2.        , -2.        , -2.        , -2.        ],\n",
       "         [-2.        ,  0.30183296, -2.        ,  1.09813549]],\n",
       "\n",
       "        [[ 1.23364546,  0.40127356, -2.        ,  0.35127629],\n",
       "         [-2.        , -2.        ,  0.11803539,  0.06546635],\n",
       "         [ 0.41333497, -2.        ,  0.00299164,  1.56041571],\n",
       "         [-2.        , -2.        , -2.        , -2.        ]],\n",
       "\n",
       "        [[ 0.10319461,  0.47415368,  1.24402517,  1.00110908],\n",
       "         [ 0.98932869,  0.17946742,  0.05382028, -2.        ],\n",
       "         [-2.        ,  0.2327401 ,  0.96315065, -2.        ],\n",
       "         [-2.        , -2.        ,  1.65192895,  0.44234911]],\n",
       "\n",
       "        [[ 0.44226796, -2.        ,  0.4655481 , -2.        ],\n",
       "         [-2.        ,  0.32152098, -2.        , -2.        ],\n",
       "         [ 1.22601089,  0.07100342,  0.24986215, -2.        ],\n",
       "         [ 1.05559068,  0.42688456,  0.87017623, -2.        ]]],\n",
       "\n",
       "\n",
       "       [[[ 0.99852024,  1.94117511,  0.55961731, -2.        ],\n",
       "         [-2.        , -2.        ,  0.09667472,  0.6483554 ],\n",
       "         [-2.        ,  0.45256991,  1.5350845 ,  0.24532277],\n",
       "         [-2.        ,  0.13456172,  1.08126874,  1.2336635 ]],\n",
       "\n",
       "        [[ 1.36713276,  0.37352653,  0.56705637, -2.        ],\n",
       "         [-2.        ,  1.54914661, -2.        , -2.        ],\n",
       "         [-2.        ,  0.83128509, -2.        , -2.        ],\n",
       "         [ 0.82625079, -2.        ,  0.42636151, -2.        ]],\n",
       "\n",
       "        [[ 0.16600825,  0.0876484 , -2.        , -2.        ],\n",
       "         [ 0.10362084,  0.40395986,  0.98233585,  0.57386028],\n",
       "         [ 1.70070035,  0.28419462, -2.        , -2.        ],\n",
       "         [ 0.3414812 , -2.        ,  1.07239034,  1.18385794]],\n",
       "\n",
       "        [[ 0.68881501, -2.        , -2.        ,  0.39271298],\n",
       "         [-2.        , -2.        ,  0.2747435 , -2.        ],\n",
       "         [-2.        , -2.        ,  0.29454762, -2.        ],\n",
       "         [-2.        ,  0.61324286,  0.21032043, -2.        ]]]])"
      ]
     },
     "execution_count": 28,
     "metadata": {},
     "output_type": "execute_result"
    }
   ],
   "source": [
    "np.where(arr < 0, -2, arr)"
   ]
  },
  {
   "cell_type": "code",
   "execution_count": 29,
   "id": "eb82d3b8-ba0a-4596-9016-625c4b665caa",
   "metadata": {},
   "outputs": [
    {
     "data": {
      "text/plain": [
       "array([[ 1.14974515, -0.57314654,  1.98357319, -1.67831747],\n",
       "       [-0.55607916,  1.8372737 , -1.65843976,  0.15407363],\n",
       "       [ 0.36862238, -0.56570068,  0.41433291,  2.35012926],\n",
       "       [ 1.31800465, -0.59118732,  3.28995043, -0.84544569],\n",
       "       [-0.43543548,  0.06877206, -0.68957947,  2.17764874]])"
      ]
     },
     "execution_count": 29,
     "metadata": {},
     "output_type": "execute_result"
    }
   ],
   "source": [
    "arr = np.random.randn(5,4)\n",
    "\n",
    "arr"
   ]
  },
  {
   "cell_type": "code",
   "execution_count": 30,
   "id": "2ffddf5a-8573-4f1d-aba7-e29886e9ef0f",
   "metadata": {},
   "outputs": [
    {
     "data": {
      "text/plain": [
       "0.37593972640533496"
      ]
     },
     "execution_count": 30,
     "metadata": {},
     "output_type": "execute_result"
    }
   ],
   "source": [
    "arr.mean()"
   ]
  },
  {
   "cell_type": "code",
   "execution_count": 31,
   "id": "51434bbb-9fa4-4805-8362-5122742aea34",
   "metadata": {},
   "outputs": [
    {
     "data": {
      "text/plain": [
       "0.37593972640533496"
      ]
     },
     "execution_count": 31,
     "metadata": {},
     "output_type": "execute_result"
    }
   ],
   "source": [
    "np.mean(arr)"
   ]
  },
  {
   "cell_type": "code",
   "execution_count": 32,
   "id": "bd0696ce-bad6-4732-8ef3-f3c259fde5d9",
   "metadata": {},
   "outputs": [
    {
     "data": {
      "text/plain": [
       "7.5187945281066995"
      ]
     },
     "execution_count": 32,
     "metadata": {},
     "output_type": "execute_result"
    }
   ],
   "source": [
    "arr.sum()"
   ]
  },
  {
   "cell_type": "code",
   "execution_count": 33,
   "id": "ae09e834-442e-44e7-b687-bb54bb9ff07b",
   "metadata": {},
   "outputs": [
    {
     "data": {
      "text/plain": [
       "array([ 0.22046358, -0.0557929 ,  0.64184597,  0.79283052,  0.28035146])"
      ]
     },
     "execution_count": 33,
     "metadata": {},
     "output_type": "execute_result"
    }
   ],
   "source": [
    "arr.mean(axis = 1)"
   ]
  },
  {
   "cell_type": "markdown",
   "id": "6de62921-ef47-4fef-a216-b05bbc1a4c34",
   "metadata": {},
   "source": [
    "arr.sum(axis = 0)"
   ]
  },
  {
   "cell_type": "code",
   "execution_count": 34,
   "id": "cbaef563-058a-4676-bded-4f9561026901",
   "metadata": {},
   "outputs": [
    {
     "data": {
      "text/plain": [
       "array([1.84485754, 0.17601122, 3.3398373 , 2.15808847])"
      ]
     },
     "execution_count": 34,
     "metadata": {},
     "output_type": "execute_result"
    }
   ],
   "source": [
    "arr.sum(axis = 0)"
   ]
  },
  {
   "cell_type": "code",
   "execution_count": 35,
   "id": "97301edc-0d30-4bf1-9af3-625c3cc0e19c",
   "metadata": {},
   "outputs": [
    {
     "data": {
      "text/plain": [
       "array([ 0,  1,  3,  6, 10, 15, 21, 28])"
      ]
     },
     "execution_count": 35,
     "metadata": {},
     "output_type": "execute_result"
    }
   ],
   "source": [
    "arr = np.array([0, 1, 2, 3, 4, 5, 6, 7])\n",
    "\n",
    "arr.cumsum()"
   ]
  },
  {
   "cell_type": "code",
   "execution_count": 36,
   "id": "9d9ca165-dbf8-4ad0-b04d-60adeaea651f",
   "metadata": {},
   "outputs": [
    {
     "data": {
      "text/plain": [
       "array([[0, 1, 2],\n",
       "       [3, 4, 5],\n",
       "       [6, 7, 8]])"
      ]
     },
     "execution_count": 36,
     "metadata": {},
     "output_type": "execute_result"
    }
   ],
   "source": [
    "arr = np.array([[0, 1, 2], [3, 4, 5], [6, 7, 8]])\n",
    "\n",
    "arr"
   ]
  },
  {
   "cell_type": "code",
   "execution_count": 37,
   "id": "35739768-4786-4488-9c07-7c4d1c0d1d82",
   "metadata": {},
   "outputs": [
    {
     "data": {
      "text/plain": [
       "array([[ 0,  1,  2],\n",
       "       [ 3,  5,  7],\n",
       "       [ 9, 12, 15]])"
      ]
     },
     "execution_count": 37,
     "metadata": {},
     "output_type": "execute_result"
    }
   ],
   "source": [
    "arr.cumsum(axis=0)"
   ]
  },
  {
   "cell_type": "code",
   "execution_count": 38,
   "id": "558a77f7-63a1-4d08-8050-b4263d76bab4",
   "metadata": {},
   "outputs": [
    {
     "data": {
      "text/plain": [
       "array([[ 0,  1,  3],\n",
       "       [ 3,  7, 12],\n",
       "       [ 6, 13, 21]])"
      ]
     },
     "execution_count": 38,
     "metadata": {},
     "output_type": "execute_result"
    }
   ],
   "source": [
    "arr.cumsum(axis=1)"
   ]
  },
  {
   "cell_type": "code",
   "execution_count": 39,
   "id": "98a437d4-0081-471e-8c57-c8ea1f204755",
   "metadata": {},
   "outputs": [
    {
     "data": {
      "text/plain": [
       "array([[  0,   0,   0],\n",
       "       [  3,  12,  60],\n",
       "       [  6,  42, 336]])"
      ]
     },
     "execution_count": 39,
     "metadata": {},
     "output_type": "execute_result"
    }
   ],
   "source": [
    "arr.cumprod(axis=1)"
   ]
  },
  {
   "cell_type": "code",
   "execution_count": 40,
   "id": "f93e1494-a0c4-48bb-be77-43b5a607ce53",
   "metadata": {},
   "outputs": [],
   "source": [
    "arr = np.random.randn(100)\n"
   ]
  },
  {
   "cell_type": "code",
   "execution_count": 41,
   "id": "ee04617a-33c3-4413-b210-d6ede1261583",
   "metadata": {},
   "outputs": [
    {
     "data": {
      "text/plain": [
       "50"
      ]
     },
     "execution_count": 41,
     "metadata": {},
     "output_type": "execute_result"
    }
   ],
   "source": [
    "(arr > 0).sum()"
   ]
  },
  {
   "cell_type": "code",
   "execution_count": 42,
   "id": "50c30aa4-6e57-48c5-b470-827accea0e66",
   "metadata": {},
   "outputs": [
    {
     "data": {
      "text/plain": [
       "True"
      ]
     },
     "execution_count": 42,
     "metadata": {},
     "output_type": "execute_result"
    }
   ],
   "source": [
    "bools = np.array([False, False, True, False])\n",
    "\n",
    "bools.any()"
   ]
  },
  {
   "cell_type": "code",
   "execution_count": 43,
   "id": "599f39e2-a333-4974-a62c-07888c04065a",
   "metadata": {},
   "outputs": [
    {
     "data": {
      "text/plain": [
       "False"
      ]
     },
     "execution_count": 43,
     "metadata": {},
     "output_type": "execute_result"
    }
   ],
   "source": [
    "bools.all()"
   ]
  },
  {
   "cell_type": "code",
   "execution_count": 45,
   "id": "d3517ed9-d190-4721-b4b8-cb1a43be45a6",
   "metadata": {},
   "outputs": [
    {
     "data": {
      "text/plain": [
       "array([ 0.23285621,  0.41898636,  2.66477303, -0.52391635, -0.99021413,\n",
       "        1.28195388])"
      ]
     },
     "execution_count": 45,
     "metadata": {},
     "output_type": "execute_result"
    }
   ],
   "source": [
    "arr = np.random.randn(6)\n",
    "arr"
   ]
  },
  {
   "cell_type": "code",
   "execution_count": 47,
   "id": "7cd025dc-4615-4403-a290-f746d99bb8b2",
   "metadata": {},
   "outputs": [
    {
     "data": {
      "text/plain": [
       "array([-0.99021413, -0.52391635,  0.23285621,  0.41898636,  1.28195388,\n",
       "        2.66477303])"
      ]
     },
     "execution_count": 47,
     "metadata": {},
     "output_type": "execute_result"
    }
   ],
   "source": [
    "arr.sort()\n",
    "arr"
   ]
  },
  {
   "cell_type": "code",
   "execution_count": 48,
   "id": "01d2c9ed-2cd8-4851-aa38-0a44a8031e2a",
   "metadata": {},
   "outputs": [
    {
     "data": {
      "text/plain": [
       "array([[ 0.83335471, -0.0383829 , -0.62021529],\n",
       "       [-0.38604277, -2.21406269,  0.029778  ],\n",
       "       [-0.6707886 , -0.52792963, -0.07229463],\n",
       "       [ 0.82277881,  0.51087395,  0.2926675 ],\n",
       "       [ 0.83632757,  1.06037982,  0.1161484 ]])"
      ]
     },
     "execution_count": 48,
     "metadata": {},
     "output_type": "execute_result"
    }
   ],
   "source": [
    "arr = np.random.randn(5, 3)\n",
    "\n",
    "arr"
   ]
  },
  {
   "cell_type": "code",
   "execution_count": 51,
   "id": "4d622a47-a14a-448e-9229-7a3e391977ec",
   "metadata": {},
   "outputs": [
    {
     "data": {
      "text/plain": [
       "array([[-0.62021529, -0.0383829 ,  0.83335471],\n",
       "       [-2.21406269, -0.38604277,  0.029778  ],\n",
       "       [-0.6707886 , -0.52792963, -0.07229463],\n",
       "       [ 0.2926675 ,  0.51087395,  0.82277881],\n",
       "       [ 0.1161484 ,  0.83632757,  1.06037982]])"
      ]
     },
     "execution_count": 51,
     "metadata": {},
     "output_type": "execute_result"
    }
   ],
   "source": [
    "arr.sort(1)\n",
    "arr"
   ]
  },
  {
   "cell_type": "code",
   "execution_count": 52,
   "id": "7e16f354-da7b-42dc-9ab7-6d4e469edf91",
   "metadata": {},
   "outputs": [
    {
     "data": {
      "text/plain": [
       "array([[-2.21406269, -0.52792963, -0.07229463],\n",
       "       [-0.6707886 , -0.38604277,  0.029778  ],\n",
       "       [-0.62021529, -0.0383829 ,  0.82277881],\n",
       "       [ 0.1161484 ,  0.51087395,  0.83335471],\n",
       "       [ 0.2926675 ,  0.83632757,  1.06037982]])"
      ]
     },
     "execution_count": 52,
     "metadata": {},
     "output_type": "execute_result"
    }
   ],
   "source": [
    "arr.sort(0)\n",
    "arr"
   ]
  },
  {
   "cell_type": "code",
   "execution_count": 54,
   "id": "d9ba22d4-a476-4c30-95a1-7dc72ca62924",
   "metadata": {},
   "outputs": [],
   "source": [
    "large_arr = np.random.randn(1000)\n",
    "\n"
   ]
  },
  {
   "cell_type": "code",
   "execution_count": 55,
   "id": "bd4307d4-c483-42e9-a7b4-d88444cd5bbe",
   "metadata": {},
   "outputs": [
    {
     "data": {
      "text/plain": [
       "-1.6379861545992174"
      ]
     },
     "execution_count": 55,
     "metadata": {},
     "output_type": "execute_result"
    }
   ],
   "source": [
    "large_arr.sort()\n",
    "\n",
    "large_arr[int(0.05 * len(large_arr))]"
   ]
  },
  {
   "cell_type": "code",
   "execution_count": 56,
   "id": "857f8124-0ed7-418c-aed0-80f20cbee210",
   "metadata": {},
   "outputs": [
    {
     "data": {
      "text/plain": [
       "array(['Bob', 'Joe', 'Will'], dtype='<U4')"
      ]
     },
     "execution_count": 56,
     "metadata": {},
     "output_type": "execute_result"
    }
   ],
   "source": [
    "names = np.array(['Bob', 'Joe', 'Will', 'Bob', 'Will', 'Joe', 'Joe'])\n",
    "\n",
    "np.unique(names)"
   ]
  },
  {
   "cell_type": "code",
   "execution_count": 58,
   "id": "7d6ae907-5786-4102-b5d8-6314101047d8",
   "metadata": {},
   "outputs": [
    {
     "name": "stdout",
     "output_type": "stream",
     "text": [
      "CPU times: total: 0 ns\n",
      "Wall time: 0 ns\n"
     ]
    },
    {
     "data": {
      "text/plain": [
       "array([1, 2, 3, 4])"
      ]
     },
     "execution_count": 58,
     "metadata": {},
     "output_type": "execute_result"
    }
   ],
   "source": [
    "ints = np.array([3, 3, 3, 2, 2, 1, 1, 4, 4])\n",
    "\n",
    "%time np.unique(ints)"
   ]
  },
  {
   "cell_type": "code",
   "execution_count": 60,
   "id": "ef353761-94dd-41e2-afdc-0ce5c95463d4",
   "metadata": {},
   "outputs": [
    {
     "name": "stdout",
     "output_type": "stream",
     "text": [
      "CPU times: total: 0 ns\n",
      "Wall time: 0 ns\n"
     ]
    },
    {
     "data": {
      "text/plain": [
       "['Bob', 'Joe', 'Will']"
      ]
     },
     "execution_count": 60,
     "metadata": {},
     "output_type": "execute_result"
    }
   ],
   "source": [
    "%time sorted(set(names))"
   ]
  },
  {
   "cell_type": "code",
   "execution_count": 62,
   "id": "55488a20-f319-4af0-9583-1e96fc6a1fa8",
   "metadata": {},
   "outputs": [
    {
     "data": {
      "text/plain": [
       "array([ True, False, False,  True,  True, False,  True])"
      ]
     },
     "execution_count": 62,
     "metadata": {},
     "output_type": "execute_result"
    }
   ],
   "source": [
    "values = np.array([6, 0, 0, 3, 2, 5, 6])\n",
    "\n",
    "np.in1d(values,[2,3,6])\n"
   ]
  },
  {
   "cell_type": "code",
   "execution_count": 64,
   "id": "5a7aaff1-3584-4a6a-964a-834432a3a86e",
   "metadata": {},
   "outputs": [],
   "source": [
    "arr = np.arange(10)\n",
    "np.save('some_arry',arr)"
   ]
  },
  {
   "cell_type": "code",
   "execution_count": 65,
   "id": "51e92d5d-23cc-477f-b8ce-9972a48810eb",
   "metadata": {},
   "outputs": [
    {
     "data": {
      "text/plain": [
       "array([0, 1, 2, 3, 4, 5, 6, 7, 8, 9])"
      ]
     },
     "execution_count": 65,
     "metadata": {},
     "output_type": "execute_result"
    }
   ],
   "source": [
    "np.load('some_arry.npy')"
   ]
  },
  {
   "cell_type": "code",
   "execution_count": 66,
   "id": "75614a74-4c91-41a6-afdc-6338c6382adc",
   "metadata": {},
   "outputs": [],
   "source": [
    "np.savez('array_archive.npz', a=arr, b=arr)"
   ]
  },
  {
   "cell_type": "code",
   "execution_count": 67,
   "id": "7befa925-9a19-45f2-a01e-727bd2ff77dc",
   "metadata": {},
   "outputs": [
    {
     "data": {
      "text/plain": [
       "array([0, 1, 2, 3, 4, 5, 6, 7, 8, 9])"
      ]
     },
     "execution_count": 67,
     "metadata": {},
     "output_type": "execute_result"
    }
   ],
   "source": [
    "np.load('array_archive.npz')['a']"
   ]
  },
  {
   "cell_type": "code",
   "execution_count": 68,
   "id": "a025e3d2-9266-4794-ae8d-b740c89ff4fb",
   "metadata": {},
   "outputs": [
    {
     "data": {
      "text/plain": [
       "array([0, 1, 2, 3, 4, 5, 6, 7, 8, 9])"
      ]
     },
     "execution_count": 68,
     "metadata": {},
     "output_type": "execute_result"
    }
   ],
   "source": [
    "np.load('array_archive.npz')['b']"
   ]
  },
  {
   "cell_type": "code",
   "execution_count": 69,
   "id": "b8b965b0-14e0-49d0-9a3f-0a1cecb8c1ed",
   "metadata": {},
   "outputs": [],
   "source": [
    "np.savez_compressed('arrays_compressed.npz', a=arr, b=arr)"
   ]
  },
  {
   "cell_type": "code",
   "execution_count": 71,
   "id": "64dd1cb5-e964-45da-9b24-0d76dc374c35",
   "metadata": {},
   "outputs": [
    {
     "data": {
      "text/plain": [
       "array([0, 1, 2, 3, 4, 5, 6, 7, 8, 9])"
      ]
     },
     "execution_count": 71,
     "metadata": {},
     "output_type": "execute_result"
    }
   ],
   "source": [
    "np.load('arrays_compressed.npz')['b']"
   ]
  },
  {
   "cell_type": "code",
   "execution_count": 72,
   "id": "fbe18936-0475-4f46-bbcc-1bc42beb4652",
   "metadata": {},
   "outputs": [
    {
     "data": {
      "text/plain": [
       "array([[1., 2., 3.],\n",
       "       [4., 5., 6.]])"
      ]
     },
     "execution_count": 72,
     "metadata": {},
     "output_type": "execute_result"
    }
   ],
   "source": [
    "x = np.array([[1., 2., 3.], [4., 5., 6.]])\n",
    "\n",
    "y = np.array([[6., 23.], [-1, 7], [8, 9]])\n",
    "\n",
    "x"
   ]
  },
  {
   "cell_type": "code",
   "execution_count": 73,
   "id": "c0c403b3-45a5-4590-a1dd-faee2fc58a4b",
   "metadata": {},
   "outputs": [
    {
     "data": {
      "text/plain": [
       "array([[ 6., 23.],\n",
       "       [-1.,  7.],\n",
       "       [ 8.,  9.]])"
      ]
     },
     "execution_count": 73,
     "metadata": {},
     "output_type": "execute_result"
    }
   ],
   "source": [
    "y"
   ]
  },
  {
   "cell_type": "code",
   "execution_count": 75,
   "id": "e7c06e69-50eb-4a59-8aa3-7318acc0c78e",
   "metadata": {},
   "outputs": [
    {
     "data": {
      "text/plain": [
       "array([[ 28.,  64.],\n",
       "       [ 67., 181.]])"
      ]
     },
     "execution_count": 75,
     "metadata": {},
     "output_type": "execute_result"
    }
   ],
   "source": [
    "x.dot(y)"
   ]
  },
  {
   "cell_type": "code",
   "execution_count": 76,
   "id": "8256e66c-e52d-4284-ac7e-779207699b1a",
   "metadata": {},
   "outputs": [
    {
     "data": {
      "text/plain": [
       "array([[14., 32.],\n",
       "       [32., 77.]])"
      ]
     },
     "execution_count": 76,
     "metadata": {},
     "output_type": "execute_result"
    }
   ],
   "source": [
    "x.dot(x.T)"
   ]
  },
  {
   "cell_type": "code",
   "execution_count": 77,
   "id": "aa3b5b32-feee-4f0e-87f8-2f47a0246980",
   "metadata": {},
   "outputs": [
    {
     "data": {
      "text/plain": [
       "array([[ 28.,  64.],\n",
       "       [ 67., 181.]])"
      ]
     },
     "execution_count": 77,
     "metadata": {},
     "output_type": "execute_result"
    }
   ],
   "source": [
    "np.dot(x,y)"
   ]
  },
  {
   "cell_type": "code",
   "execution_count": 78,
   "id": "5a8c7c65-cbb4-47e1-aa60-0bd6656cd12a",
   "metadata": {},
   "outputs": [
    {
     "data": {
      "text/plain": [
       "array([ 6., 15.])"
      ]
     },
     "execution_count": 78,
     "metadata": {},
     "output_type": "execute_result"
    }
   ],
   "source": [
    "np.dot(x,np.ones(3))"
   ]
  },
  {
   "cell_type": "code",
   "execution_count": 79,
   "id": "7d3adf8f-19d5-45c4-ad70-dbb40d8914c6",
   "metadata": {},
   "outputs": [
    {
     "data": {
      "text/plain": [
       "array([ 6., 15.])"
      ]
     },
     "execution_count": 79,
     "metadata": {},
     "output_type": "execute_result"
    }
   ],
   "source": [
    "x @ np.ones(3)"
   ]
  },
  {
   "cell_type": "code",
   "execution_count": 80,
   "id": "211dbeac-fa75-4121-9fe8-e3509889f691",
   "metadata": {},
   "outputs": [
    {
     "data": {
      "text/plain": [
       "array([5., 7., 9.])"
      ]
     },
     "execution_count": 80,
     "metadata": {},
     "output_type": "execute_result"
    }
   ],
   "source": [
    "x.T @ np.ones(2)"
   ]
  },
  {
   "cell_type": "code",
   "execution_count": 81,
   "id": "0d36e168-d0a3-4f78-9230-508d23b5249f",
   "metadata": {},
   "outputs": [
    {
     "data": {
      "text/plain": [
       "array([[13.64155641, -0.88744574, 10.42985886,  4.10257552,  4.84510312],\n",
       "       [-0.88744574,  0.30157178, -0.38446056, -0.43060905, -0.419151  ],\n",
       "       [10.42985886, -0.38446056,  9.14122074,  2.82294058,  3.63499988],\n",
       "       [ 4.10257552, -0.43060905,  2.82294058,  1.48439051,  1.51768122],\n",
       "       [ 4.84510312, -0.419151  ,  3.63499988,  1.51768122,  1.85081548]])"
      ]
     },
     "execution_count": 81,
     "metadata": {},
     "output_type": "execute_result"
    }
   ],
   "source": [
    "from numpy.linalg import inv, qr\n",
    "\n",
    "X = np.random.randn(5, 5)\n",
    "\n",
    "mat = X.T.dot(X)\n",
    "\n",
    "inv(mat)"
   ]
  },
  {
   "cell_type": "code",
   "execution_count": 82,
   "id": "42a054df-b9d8-4e68-bf9c-7844c1e74ffc",
   "metadata": {},
   "outputs": [
    {
     "data": {
      "text/plain": [
       "array([[ 1.00000000e+00, -8.11173645e-16, -5.51707920e-15,\n",
       "         4.21264858e-15, -1.71936766e-15],\n",
       "       [ 1.51033830e-15,  1.00000000e+00, -6.65318866e-16,\n",
       "        -3.21370199e-15,  7.05753779e-16],\n",
       "       [ 2.01819886e-15,  3.40485173e-16,  1.00000000e+00,\n",
       "        -2.32667498e-16,  1.63891915e-15],\n",
       "       [-5.31871965e-15,  7.96973205e-16,  7.92740511e-15,\n",
       "         1.00000000e+00,  3.44242406e-15],\n",
       "       [-9.87103403e-15,  2.66758866e-16, -5.13050416e-15,\n",
       "        -4.36372669e-15,  1.00000000e+00]])"
      ]
     },
     "execution_count": 82,
     "metadata": {},
     "output_type": "execute_result"
    }
   ],
   "source": [
    "mat.dot(inv(mat))"
   ]
  },
  {
   "cell_type": "code",
   "execution_count": 83,
   "id": "ef06e25d-59e7-43f3-b2aa-b288034d85e2",
   "metadata": {},
   "outputs": [
    {
     "data": {
      "text/plain": [
       "array([[-5.85808898,  9.60179137,  0.69641991,  7.34337655, 10.42851936],\n",
       "       [ 0.        , -9.62730195,  2.26660479, -1.2900026 , -5.61986206],\n",
       "       [ 0.        ,  0.        , -1.348244  , -5.21042908,  7.33331286],\n",
       "       [ 0.        ,  0.        ,  0.        , -3.13230619,  2.60194884],\n",
       "       [ 0.        ,  0.        ,  0.        ,  0.        ,  0.15322578]])"
      ]
     },
     "execution_count": 83,
     "metadata": {},
     "output_type": "execute_result"
    }
   ],
   "source": [
    "q,r = qr(mat)\n",
    "\n",
    "r"
   ]
  },
  {
   "cell_type": "code",
   "execution_count": 84,
   "id": "5f59ba82-521a-4f6b-a697-8eb0e9a11cf5",
   "metadata": {},
   "outputs": [
    {
     "data": {
      "text/plain": [
       "array([[-0.12676273,  2.41185473,  1.14204435,  6.09031005, -7.58620625],\n",
       "       [-0.04692284,  0.58409756, -0.15328555, -0.47038959, -0.10675948],\n",
       "       [-0.05870425, -1.36170116, -1.12662671,  2.8195979 ,  2.25781501],\n",
       "       [ 1.49386388,  0.84105051,  0.19115468, -0.11924935, -3.35653832],\n",
       "       [-1.20520489, -0.7082763 , -0.16950602, -1.82213447,  7.13920632]])"
      ]
     },
     "execution_count": 84,
     "metadata": {},
     "output_type": "execute_result"
    }
   ],
   "source": [
    "X = np.random.randn(5, 5)\n",
    "\n",
    "inv(X) * X"
   ]
  },
  {
   "cell_type": "code",
   "execution_count": 87,
   "id": "05680cdf-16e7-449e-a9c9-8f0ca7887ce7",
   "metadata": {},
   "outputs": [
    {
     "data": {
      "text/plain": [
       "array([[ 0.82607489, -0.69724162,  0.72430661, -0.03209776],\n",
       "       [ 0.91011536,  1.82079384,  0.36216441,  0.45907511],\n",
       "       [-1.81971002,  1.22388742,  1.2461039 , -0.35502483],\n",
       "       [-1.57676525, -0.34637938, -0.78091807, -0.30083571]])"
      ]
     },
     "execution_count": 87,
     "metadata": {},
     "output_type": "execute_result"
    }
   ],
   "source": [
    "samples = np.random.normal(size=(4, 4))\n",
    "\n",
    "samples"
   ]
  },
  {
   "cell_type": "code",
   "execution_count": 88,
   "id": "0aae1be7-8d9c-4080-9b00-838862656f63",
   "metadata": {},
   "outputs": [
    {
     "name": "stdout",
     "output_type": "stream",
     "text": [
      "596 ms ± 48.3 ms per loop (mean ± std. dev. of 7 runs, 1 loop each)\n"
     ]
    }
   ],
   "source": [
    "from random import normalvariate\n",
    "N = 1000000\n",
    "%timeit samples = [normalvariate(0, 1) for _ in range(N)]"
   ]
  },
  {
   "cell_type": "code",
   "execution_count": 89,
   "id": "d26cdef4-eb0f-469d-aac0-9d60ae814f49",
   "metadata": {},
   "outputs": [
    {
     "name": "stdout",
     "output_type": "stream",
     "text": [
      "19.4 ms ± 2.75 ms per loop (mean ± std. dev. of 7 runs, 100 loops each)\n"
     ]
    }
   ],
   "source": [
    "%timeit np.random.normal(size=N)"
   ]
  },
  {
   "cell_type": "code",
   "execution_count": 90,
   "id": "0597bd4c-86a9-4c3b-9082-f5bd39391a6c",
   "metadata": {},
   "outputs": [
    {
     "data": {
      "text/plain": [
       "array([ 0.47143516, -1.19097569,  1.43270697, -0.3126519 , -0.72058873,\n",
       "        0.88716294,  0.85958841, -0.6365235 ,  0.01569637, -2.24268495])"
      ]
     },
     "execution_count": 90,
     "metadata": {},
     "output_type": "execute_result"
    }
   ],
   "source": [
    "np.random.RandomState(1234).randn(10)\n"
   ]
  },
  {
   "cell_type": "code",
   "execution_count": 93,
   "id": "5ee2c922-e633-4300-a7ae-16afd52e6c8a",
   "metadata": {},
   "outputs": [
    {
     "data": {
      "text/plain": [
       "[<matplotlib.lines.Line2D at 0x202cbff4c90>]"
      ]
     },
     "execution_count": 93,
     "metadata": {},
     "output_type": "execute_result"
    },
    {
     "data": {
      "image/png": "[encoded data removed]",
      "text/plain": [
       "<Figure size 640x480 with 1 Axes>"
      ]
     },
     "metadata": {},
     "output_type": "display_data"
    }
   ],
   "source": [
    "import random\n",
    "\n",
    "position = 0\n",
    "walk=[position]\n",
    "steps =1000\n",
    "for i in range(steps):\n",
    "    step = 1 if random.randint(0,1) else -1\n",
    "    position += step\n",
    "    walk.append(position)\n",
    "\n",
    "plt.plot(walk[:1000])"
   ]
  },
  {
   "cell_type": "code",
   "execution_count": 94,
   "id": "8443deb0-4117-46ec-9df6-7778b685f1b2",
   "metadata": {},
   "outputs": [],
   "source": [
    "nsteps = 1000\n",
    "\n",
    "draws = np.random.randint(0, 2, size=nsteps)\n",
    "\n",
    "steps = np.where(draws > 0, 1, -1)\n",
    "\n",
    "walk = steps.cumsum()"
   ]
  },
  {
   "cell_type": "code",
   "execution_count": 95,
   "id": "8330fc2a-7c54-494f-a376-b2d412436a89",
   "metadata": {},
   "outputs": [
    {
     "data": {
      "text/plain": [
       "-24"
      ]
     },
     "execution_count": 95,
     "metadata": {},
     "output_type": "execute_result"
    }
   ],
   "source": [
    "walk.min()\n"
   ]
  },
  {
   "cell_type": "code",
   "execution_count": 96,
   "id": "32f22f15-fb0d-4ef4-933b-7726b84254e6",
   "metadata": {},
   "outputs": [
    {
     "data": {
      "text/plain": [
       "4"
      ]
     },
     "execution_count": 96,
     "metadata": {},
     "output_type": "execute_result"
    }
   ],
   "source": [
    "walk.max()"
   ]
  },
  {
   "cell_type": "code",
   "execution_count": 97,
   "id": "43ddaf8d-0889-4183-9ba5-869f20e7818d",
   "metadata": {},
   "outputs": [
    {
     "data": {
      "text/plain": [
       "47"
      ]
     },
     "execution_count": 97,
     "metadata": {},
     "output_type": "execute_result"
    }
   ],
   "source": [
    "(np.abs(walk) >= 10).argmax()"
   ]
  },
  {
   "cell_type": "code",
   "execution_count": 98,
   "id": "f622514c-71fd-44a3-aad3-5ae9e9a68a77",
   "metadata": {},
   "outputs": [
    {
     "data": {
      "text/plain": [
       "array([[ 1,  1,  1, ...,  1,  1, -1],\n",
       "       [ 1,  1, -1, ...,  1,  1,  1],\n",
       "       [-1, -1,  1, ...,  1,  1, -1],\n",
       "       ...,\n",
       "       [ 1,  1,  1, ...,  1, -1,  1],\n",
       "       [-1, -1,  1, ..., -1,  1, -1],\n",
       "       [ 1,  1,  1, ...,  1, -1,  1]])"
      ]
     },
     "execution_count": 98,
     "metadata": {},
     "output_type": "execute_result"
    }
   ],
   "source": [
    "nwalks = 5000\n",
    "\n",
    "nsteps = 1000\n",
    "\n",
    "draws = np.random.randint(0, 2, size=(nwalks, nsteps)) # 0 or 1\n",
    "\n",
    "steps = np.where(draws > 0, 1, -1)\n",
    "\n",
    "steps"
   ]
  },
  {
   "cell_type": "code",
   "execution_count": 100,
   "id": "1e5501d7-abb4-4c65-b8e3-ca934d306e61",
   "metadata": {},
   "outputs": [],
   "source": [
    "walks = steps.cumsum(1)"
   ]
  },
  {
   "cell_type": "code",
   "execution_count": 101,
   "id": "6374d871-1960-4c12-9334-77bcc6751457",
   "metadata": {},
   "outputs": [
    {
     "data": {
      "text/plain": [
       "109"
      ]
     },
     "execution_count": 101,
     "metadata": {},
     "output_type": "execute_result"
    }
   ],
   "source": [
    "walks.max()"
   ]
  },
  {
   "cell_type": "code",
   "execution_count": 102,
   "id": "d8511469-6a37-4c03-b5b2-6a6531e4cca4",
   "metadata": {},
   "outputs": [
    {
     "data": {
      "text/plain": [
       "-117"
      ]
     },
     "execution_count": 102,
     "metadata": {},
     "output_type": "execute_result"
    }
   ],
   "source": [
    "walks.min()"
   ]
  },
  {
   "cell_type": "code",
   "execution_count": 103,
   "id": "2a312b5d-f770-4e27-9b30-1cc2574ace4a",
   "metadata": {},
   "outputs": [
    {
     "data": {
      "text/plain": [
       "array([ True, False,  True, ...,  True,  True,  True])"
      ]
     },
     "execution_count": 103,
     "metadata": {},
     "output_type": "execute_result"
    }
   ],
   "source": [
    "hits30 = (np.abs(walks) >= 30).any(1)\n",
    "\n",
    "hits30"
   ]
  },
  {
   "cell_type": "code",
   "execution_count": 104,
   "id": "7215e787-e521-40b1-ba22-a8029b8e8b7c",
   "metadata": {},
   "outputs": [
    {
     "data": {
      "text/plain": [
       "3317"
      ]
     },
     "execution_count": 104,
     "metadata": {},
     "output_type": "execute_result"
    }
   ],
   "source": [
    "hits30.sum()"
   ]
  },
  {
   "cell_type": "code",
   "execution_count": 105,
   "id": "657a9e4f-59bf-4268-ba29-580318309a97",
   "metadata": {},
   "outputs": [
    {
     "data": {
      "text/plain": [
       "505.803738317757"
      ]
     },
     "execution_count": 105,
     "metadata": {},
     "output_type": "execute_result"
    }
   ],
   "source": [
    "crossing_times = (np.abs(walks[hits30]) >= 30).argmax(1)\n",
    "\n",
    "crossing_times.mean()"
   ]
  },
  {
   "cell_type": "code",
   "execution_count": null,
   "id": "41719b3d-22e5-48ce-8ec6-e8415a3808a8",
   "metadata": {},
   "outputs": [],
   "source": []
  },
  {
   "cell_type": "code",
   "execution_count": null,
   "id": "47bd26de-710f-4450-829a-bc1d765e7f47",
   "metadata": {},
   "outputs": [],
   "source": []
  },
  {
   "cell_type": "code",
   "execution_count": null,
   "id": "01cc8eb7-a612-4760-9973-20b3cc6ee2a9",
   "metadata": {},
   "outputs": [],
   "source": []
  },
  {
   "cell_type": "code",
   "execution_count": null,
   "id": "662d8ae5-1ae3-4406-b507-5b13b40ab255",
   "metadata": {},
   "outputs": [],
   "source": []
  },
  {
   "cell_type": "code",
   "execution_count": null,
   "id": "df15dde2-4290-4678-9d66-7b83f38b336e",
   "metadata": {},
   "outputs": [],
   "source": []
  },
  {
   "cell_type": "code",
   "execution_count": null,
   "id": "bd01a716-4e3a-4d34-a234-e6ce90430e11",
   "metadata": {},
   "outputs": [],
   "source": []
  },
  {
   "cell_type": "code",
   "execution_count": null,
   "id": "2aa4c2c2-bbc2-4c3b-a9ca-e44baa8179b0",
   "metadata": {},
   "outputs": [],
   "source": []
  },
  {
   "cell_type": "code",
   "execution_count": null,
   "id": "4b372593-c8d7-4d89-9012-c674827d8b28",
   "metadata": {},
   "outputs": [],
   "source": []
  }
 ],
 "metadata": {
  "kernelspec": {
   "display_name": "Python 3 (ipykernel)",
   "language": "python",
   "name": "python3"
  },
  "language_info": {
   "codemirror_mode": {
    "name": "ipython",
    "version": 3
   },
   "file_extension": ".py",
   "mimetype": "text/x-python",
   "name": "python",
   "nbconvert_exporter": "python",
   "pygments_lexer": "ipython3",
   "version": "3.11.4"
  }
 },
 "nbformat": 4,
 "nbformat_minor": 5
}
